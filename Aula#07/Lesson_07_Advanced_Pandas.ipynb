{
  "nbformat": 4,
  "nbformat_minor": 0,
  "metadata": {
    "colab": {
      "name": "Lesson 07 - Advanced Pandas.ipynb",
      "version": "0.3.2",
      "provenance": [],
      "collapsed_sections": []
    },
    "kernelspec": {
      "display_name": "Python 3",
      "language": "python",
      "name": "python3"
    }
  },
  "cells": [
    {
      "metadata": {
        "id": "grm4aAVezRR-",
        "colab_type": "text"
      },
      "cell_type": "markdown",
      "source": [
        "## 1 Introduction"
      ]
    },
    {
      "metadata": {
        "colab_type": "text",
        "id": "LUv-dd_E3XLA"
      },
      "cell_type": "markdown",
      "source": [
        "\n",
        "In this lesson, we'll clean and analyze data on passenger survival from the [Titanic](https://en.wikipedia.org/wiki/RMS_Titanic). Each row contains information for a specific Titanic passenger.\n",
        "\n",
        "Here are the first few rows of the dataset:\n",
        "\n",
        "|  | pclass | survived | name                                            | sex    | age     | sibsp | parch | ticket | fare     | cabin   | embarked | boat | body | home.dest                       |\n",
        "|---|--------|----------|-------------------------------------------------|--------|---------|-------|-------|--------|----------|---------|----------|------|------|---------------------------------|\n",
        "| 0 | 1      | 1        | Allen, Miss. Elisabeth Walton                   | female | 29.0000 | 0     | 0     | 24160  | 211.3375 | B5      | S        | 2    |      | St Louis, MO                    |\n",
        "| 1 | 1      | 1        | Allison, Master. Hudson Trevor                  | male   | 0.9167  | 1     | 2     | 113781 | 151.5500 | C22 C26 | S        | 11   |      | Montreal, PQ / Chesterville, ON |\n",
        "| 2 | 1      | 0        | Allison, Miss. Helen Loraine                    | female | 2       | 1     | 2     | 113781 | 151.5500 | C22 C26 | S        |      |      | Montreal, PQ / Chesterville, ON |\n",
        "| 3 | 1      | 0        | Allison, Mr. Hudson Joshua Creighton            | male   | 30.0000 | 1     | 2     | 113781 | 151.5500 | C22 C26 | S        |      | 135  | Montreal, PQ / Chesterville, ON |\n",
        "| 4 | 1      | 0        | Allison, Mrs. Hudson J C (Bessie Waldo Daniels) | female | 25      | 1     | 2     | 113781 | 151.5500 | C22 C26 | S        |      |      | Montreal, PQ / Chesterville,    |\n",
        "\n",
        "\n",
        "Lets take a closer look at a few of the key columns:\n",
        "\n",
        "- **pclass** -- The passenger's cabin class from **1** to **3** where **1** was the highest class\n",
        "- **survived** -- **1** if the passenger survived, and **0** if they did not.\n",
        "- **sex** -- The passenger's gender\n",
        "- **age** -- The passenger's age\n",
        "- **fare** -- The amount the passenger paid for their ticket\n",
        "- **embarked** -- Either **C**, **Q**, or **S**, to indicate which port the passenger boarded the ship from.\n",
        "\n",
        "\n",
        "Many of the columns, such as **sex** and **age**, have missing values.\n",
        "\n",
        "Because missing values can cause errors in numerical functions, we'll need to deal with them before we can analyze the data. For instance, finding the mean of a column with a missing value will fail because it's impossible to average a missing value. Addressing missing values will let us perform calculations on the entire data set.\n"
      ]
    },
    {
      "metadata": {
        "id": "Y3C_Cfgl1jKS",
        "colab_type": "text"
      },
      "cell_type": "markdown",
      "source": [
        "\n",
        "### 1.1 Importing the data\n"
      ]
    },
    {
      "metadata": {
        "id": "yyUVbFUA1kjD",
        "colab_type": "text"
      },
      "cell_type": "markdown",
      "source": [
        "\n",
        "Let's import the data set into pandas.\n",
        "```python\n",
        "import pandas as pd\n",
        "```\n",
        "\n",
        "This gives the pandas library the alias **pd**, so that instead of typing pandas every time we want to use a function, we can instead type **pd**, for example **pd.read_csv()**.\n",
        "\n",
        "**Exercise**\n",
        "\n",
        "<img width=\"100\" src=\"https://drive.google.com/uc?export=view&id=1E8tR7B9YYUXsU_rddJAyq0FrM0MSelxZ\">\n",
        "\n",
        "\n",
        "**Description**:\n",
        "\n",
        "1. Read the file **titanic_survival.csv** into a dataframe called **titanic_survival**."
      ]
    },
    {
      "metadata": {
        "colab_type": "code",
        "id": "ODGluhsw0I1m",
        "colab": {}
      },
      "cell_type": "code",
      "source": [
        "# put your code here"
      ],
      "execution_count": 0,
      "outputs": []
    },
    {
      "metadata": {
        "colab_type": "text",
        "id": "i_oNC80Yz8Zs"
      },
      "cell_type": "markdown",
      "source": [
        "### 1.2 Finding the missing data\n"
      ]
    },
    {
      "metadata": {
        "colab_type": "text",
        "id": "WaABdi1S48I5"
      },
      "cell_type": "markdown",
      "source": [
        "\n",
        "Missing data can take a few different forms:\n",
        "\n",
        "- In Python, the None keyword and type indicates no value.\n",
        "- The Pandas library uses **NaN**, which stands for **\"not a number\"**, to indicate a missing value.\n",
        "- In general terms, both **NaN** and **None** can be called null values.\n",
        "\n",
        "If we want to see which values are **NaN**, we can use the [pd.isnull()](http://pandas.pydata.org/pandas-docs/stable/generated/pandas.isnull.html) function which takes a pandas series and returns a series of **True** and **False** values, the same way that NumPy did when we compared arrays.\n",
        "\n",
        "\n",
        "```python\n",
        "sex = titanic_survival[\"sex\"]\n",
        "sex_is_null = pd.isnull(sex)\n",
        "```\n",
        "\n",
        "We can use this resultant series to select only the rows that have null values.\n",
        "\n",
        "```python\n",
        "sex_null_true = sex[sex_is_null]\n",
        "```\n",
        "\n",
        "We'll use this structure to look at the null values for the **\"age\"** column.\n",
        "\n",
        "**Exercise**\n",
        "\n",
        "<img width=\"100\" src=\"https://drive.google.com/uc?export=view&id=1E8tR7B9YYUXsU_rddJAyq0FrM0MSelxZ\">\n",
        "\n",
        "\n",
        "\n",
        "**Description**:\n",
        "\n",
        "1. Count how many values in the **\"age\"** column have null values:\n",
        "    - Use **pandas.isnull()** on **age** variable to create a Series of **True** and **False** values. \n",
        "    - Use the resulting series to select only the elements in age that are null, and assign the result to **age_null_true**\n",
        "    - Assign the length of **age_null_true** to **age_null_count**.\n",
        "2. Print **age_null_count** to see how many null values are in the **\"age\"** column."
      ]
    },
    {
      "metadata": {
        "colab_type": "code",
        "id": "WqocZ5nG5m1s",
        "colab": {}
      },
      "cell_type": "code",
      "source": [
        "# put your code here"
      ],
      "execution_count": 0,
      "outputs": []
    },
    {
      "metadata": {
        "toc-hr-collapsed": true,
        "id": "0jnVtZYf0-VS",
        "colab_type": "text"
      },
      "cell_type": "markdown",
      "source": [
        "## 2 missingno \n"
      ]
    },
    {
      "metadata": {
        "id": "lirbKTKw2qJg",
        "colab_type": "text"
      },
      "cell_type": "markdown",
      "source": [
        "\n",
        "Messy datasets? Missing values? [missingno](https://github.com/ResidentMario/missingno) provides a small toolset of flexible and easy-to-use missing data visualizations and utilities that allows you to get a quick visual summary of the completeness (or lack thereof) of your dataset. "
      ]
    },
    {
      "metadata": {
        "id": "CrEz1Ftg0-VS",
        "colab_type": "code",
        "colab": {}
      },
      "cell_type": "code",
      "source": [
        "!pip install missingno"
      ],
      "execution_count": 0,
      "outputs": []
    },
    {
      "metadata": {
        "id": "KSBRn7vR0-VX",
        "colab_type": "text"
      },
      "cell_type": "markdown",
      "source": [
        "### 2.1 Matrix"
      ]
    },
    {
      "metadata": {
        "id": "i3bBQ6MJ0-VY",
        "colab_type": "text"
      },
      "cell_type": "markdown",
      "source": [
        "The **msno.matrix** nullity matrix is a data-dense display which lets you quickly visually pick out patterns in data completion."
      ]
    },
    {
      "metadata": {
        "id": "nqqZBgOf0-VZ",
        "colab_type": "code",
        "colab": {}
      },
      "cell_type": "code",
      "source": [
        "import missingno as msno\n",
        "import matplotlib.pyplot as plt\n",
        "\n",
        "# the sparkline at right summarizes the general shape of the data completeness \n",
        "# and points out the maximum and minimum rows. Note that last row is all NaN\n",
        "msno.matrix(titanic_survival)"
      ],
      "execution_count": 0,
      "outputs": []
    },
    {
      "metadata": {
        "id": "Y1QOKTCQ0-Vc",
        "colab_type": "text"
      },
      "cell_type": "markdown",
      "source": [
        "### 2.2 Heatmap"
      ]
    },
    {
      "metadata": {
        "id": "uP6opE5I0-Vd",
        "colab_type": "text"
      },
      "cell_type": "markdown",
      "source": [
        "The missingno correlation heatmap measures nullity correlation: how strongly the presence or absence of one variable affects the presence of another.\n",
        "\n",
        "Nullity correlation ranges from -1 (if one variable appears the other definitely does not) to 0 (variables appearing or not appearing have no effect on one another) to 1 (if one variable appears the other definitely also does).\n",
        "\n",
        "Variables that are always full or always empty have no meaningful correlation, and so are silently removed from the visualization."
      ]
    },
    {
      "metadata": {
        "id": "iVm-G27N0-Vd",
        "colab_type": "code",
        "colab": {}
      },
      "cell_type": "code",
      "source": [
        "msno.heatmap(titanic_survival)"
      ],
      "execution_count": 0,
      "outputs": []
    },
    {
      "metadata": {
        "colab_type": "text",
        "id": "3aSmRBD8z8Zt"
      },
      "cell_type": "markdown",
      "source": [
        "## 3 What is The Big Deal With Missing Data?\n",
        "\n"
      ]
    },
    {
      "metadata": {
        "colab_type": "text",
        "id": "ECVoudsQ7Onj"
      },
      "cell_type": "markdown",
      "source": [
        "\n",
        "So, we know that quite a few values are missing from the **\"age\"** column, and other columns are missing data too. But why is this a problem?\n",
        "\n",
        "Lets look at a typical approach to calculate the average for the **\"age\"** column:\n",
        "\n",
        "```python\n",
        "mean_age = sum(titanic_survival[\"age\"]) / len(titanic_survival[\"age\"])\n",
        "```\n",
        "\n",
        "The result of this is that **mean_age** would be **nan**. This is because any calculations we do with a null value also result in a null value. This makes sense when you think about it -- how can you add a null value to a known value?\n",
        "\n",
        "Instead, we have to filter out the missing values before we calculate the mean.\n",
        "\n",
        "**Exercise**\n",
        "\n",
        "<img width=\"100\" src=\"https://drive.google.com/uc?export=view&id=1E8tR7B9YYUXsU_rddJAyq0FrM0MSelxZ\">\n",
        "\n",
        "\n",
        "**Description**:\n",
        "\n",
        "1. Use **age_is_null** to create a vector that only contains values from the **\"age\"** column that aren't **NaN**.\n",
        "\n",
        "```python\n",
        "age_is_null = pd.isnull(titanic_survival[\"age\"])\n",
        "```\n",
        "\n",
        "2. Calculate the mean of the new vector, and assign the result to **correct_mean_age**.\n"
      ]
    },
    {
      "metadata": {
        "colab_type": "code",
        "id": "FasxsZHKAGnd",
        "colab": {}
      },
      "cell_type": "code",
      "source": [
        "# put your code here"
      ],
      "execution_count": 0,
      "outputs": []
    },
    {
      "metadata": {
        "colab_type": "text",
        "id": "RwJzTTBiz8Zu"
      },
      "cell_type": "markdown",
      "source": [
        "## 4 Easier Ways To Do Math\n"
      ]
    },
    {
      "metadata": {
        "colab_type": "text",
        "id": "HwriBV0mAzNL"
      },
      "cell_type": "markdown",
      "source": [
        "\n",
        "Luckily, missing data is so common that many pandas methods automatically filter for it. For example, if we use use the [Series.mean()](http://pandas.pydata.org/pandas-docs/stable/generated/pandas.Series.mean.html) method to calculate the mean of a column, missing values will not be included in the calculation.\n",
        "\n",
        "To calculate the mean age that we did earlier, we can replace all of our code with one line\n",
        "\n",
        "```python\n",
        "correct_mean_age = titanic_survival[\"age\"].mean()\n",
        "```\n",
        "\n",
        "Using the built in method is much easier, but it's import to understand what is happening behind the scenes.\n",
        "\n",
        "**Exercise**\n",
        "\n",
        "<img width=\"100\" src=\"https://drive.google.com/uc?export=view&id=1E8tR7B9YYUXsU_rddJAyq0FrM0MSelxZ\">\n",
        "\n",
        "\n",
        "\n",
        "**Description**:\n",
        "\n",
        "1. Assign the mean of the **\"fare\"** column to **correct_mean_fare**."
      ]
    },
    {
      "metadata": {
        "colab_type": "code",
        "id": "ZhfqlbUoA6XH",
        "colab": {}
      },
      "cell_type": "code",
      "source": [
        "# put your code here"
      ],
      "execution_count": 0,
      "outputs": []
    },
    {
      "metadata": {
        "colab_type": "text",
        "id": "NJAuwmUyz8Zu"
      },
      "cell_type": "markdown",
      "source": [
        "## 5 Calculating Summary Statistics\n"
      ]
    },
    {
      "metadata": {
        "colab_type": "text",
        "id": "juhqTxnHBr-i"
      },
      "cell_type": "markdown",
      "source": [
        "\n",
        "\n",
        "Let's calculate more summary statistics for the data. The **pclass** column indicates the cabin class for each passenger, which was either first **class (1)**, **second class (2)**, or **third class (3)**. You'll use the list **passenger_classes**, which contains these values, in the following exercise.\n",
        "\n",
        "**Exercise**\n",
        "\n",
        "<img width=\"100\" src=\"https://drive.google.com/uc?export=view&id=1E8tR7B9YYUXsU_rddJAyq0FrM0MSelxZ\">\n",
        "\n",
        "\n",
        "**Description**:\n",
        "\n",
        "1. Use a for loop to iterate over **passenger_classes**. \n",
        "\n",
        "```python\n",
        "passenger_classes = [1, 2, 3]\n",
        "fares_by_class = {}\n",
        "```\n",
        "\n",
        "    Within the for loop:\n",
        "   - Select just the rows in **titanic_survival** where the **pclass** value is equivalent to the current iterator value (class).\n",
        "   - Select just the **fare** column for the current subset of rows.\n",
        "   - Use the **Series.mean** method to calculate the mean of this subset.\n",
        "   - Add the mean of the class to the **fares_by_class** dictionary with class as the key.\n",
        "   \n",
        "2. Once the loop completes, the dictionary **fares_by_class** should have **1, 2, and 3** as keys, with the average fares as the corresponding values.\n"
      ]
    },
    {
      "metadata": {
        "colab_type": "code",
        "id": "nwHWEy1aCCVy",
        "colab": {}
      },
      "cell_type": "code",
      "source": [
        "# put your code here"
      ],
      "execution_count": 0,
      "outputs": []
    },
    {
      "metadata": {
        "colab_type": "text",
        "id": "IYr1QHy3z8Zv"
      },
      "cell_type": "markdown",
      "source": [
        "## 6 Making Pivot Tables\n"
      ]
    },
    {
      "metadata": {
        "colab_type": "text",
        "id": "UY1k1jYwEEdX"
      },
      "cell_type": "markdown",
      "source": [
        "\n",
        "[Pivot tables](https://en.wikipedia.org/wiki/Pivot_table) provide an easy way to subset by one column and then apply a calculation like a sum or a mean. The concept of Pivot tables was popularized with the introduction of the 'PivotTable' feature in Microsoft Excel in the mid 1990's.\n",
        "\n",
        "Pivot tables first group and then apply a calculation. In the previous screen, we actually made a pivot table manually by grouping by the column **\"pclass\"** and then calculating the mean of the **\"fare\"** column for each class.\n",
        "\n",
        "Luckily, we can use the [Dataframe.pivot_table()](http://pandas.pydata.org/pandas-docs/stable/generated/pandas.pivot_table.html) method instead, which simplifies the kind of work we did on the last screen. To produce the same data, we could use one line.\n",
        "\n",
        "|  | pclass | survived | name                                            | sex    | age     | sibsp | parch | ticket | fare     | cabin   | embarked | boat | body | home.dest                       |\n",
        "|---|--------|----------|-------------------------------------------------|--------|---------|-------|-------|--------|----------|---------|----------|------|------|---------------------------------|\n",
        "| 0 | 1      | 1        | Allen, Miss. Elisabeth Walton                   | female | 29.0000 | 0     | 0     | 24160  | 211.3375 | B5      | S        | 2    |      | St Louis, MO                    |\n",
        "| 1 | 1      | 1        | Allison, Master. Hudson Trevor                  | male   | 0.9167  | 1     | 2     | 113781 | 151.5500 | C22 C26 | S        | 11   |      | Montreal, PQ / Chesterville, ON |\n",
        "| 2 | 1      | 0        | Allison, Miss. Helen Loraine                    | female | 2       | 1     | 2     | 113781 | 151.5500 | C22 C26 | S        |      |      | Montreal, PQ / Chesterville, ON |\n",
        "| 3 | 1      | 0        | Allison, Mr. Hudson Joshua Creighton            | male   | 30.0000 | 1     | 2     | 113781 | 151.5500 | C22 C26 | S        |      | 135  | Montreal, PQ / Chesterville, ON |\n",
        "| 4 | 1      | 0        | Allison, Mrs. Hudson J C (Bessie Waldo Daniels) | female | 25      | 1     | 2     | 113781 | 151.5500 | C22 C26 | S        |      |      | Montreal, PQ / Chesterville,    |\n",
        "\n",
        "\n",
        "\n",
        "```python\n",
        "passenger_class_fares = titanic_survival.pivot_table(index=\"pclass\", values=\"fare\", aggfunc=np.mean)\n",
        "```\n",
        "\n",
        "\n",
        "\n",
        "The first parameter of the method, index tells the method which column to group by. The second parameter values is the column that we want to apply the calculation to, and aggfunc specifies the calculation we want to perform. The default for the **aggfunc** parameter is actually the mean, so if we're calculating this we can omit this parameter.\n",
        "\n",
        "**Exercise**\n",
        "\n",
        "<img width=\"100\" src=\"https://drive.google.com/uc?export=view&id=1E8tR7B9YYUXsU_rddJAyq0FrM0MSelxZ\">\n",
        "\n",
        "\n",
        "**Description**:\n",
        "\n",
        "1. Use the **DataFrame.pivot_table()** method to calculate the **mean** age for each passenger class (**\"pclass\"**).\n",
        "2. Assign the result to **passenger_age**.\n",
        "3. Display the **passenger_age** pivot table using the **print()** function."
      ]
    },
    {
      "metadata": {
        "colab_type": "code",
        "id": "Rnnk8M0bF68D",
        "colab": {}
      },
      "cell_type": "code",
      "source": [
        "# put your code here"
      ],
      "execution_count": 0,
      "outputs": []
    },
    {
      "metadata": {
        "colab_type": "text",
        "id": "8t-JNboDz8Zv"
      },
      "cell_type": "markdown",
      "source": [
        "## 7  More complex pivot tables\n"
      ]
    },
    {
      "metadata": {
        "colab_type": "text",
        "id": "MRv3IanTFQjs"
      },
      "cell_type": "markdown",
      "source": [
        "\n",
        "We can use the **DataFrame.pivot_table()** method to perform even more advanced tasks. If we pass a list of column names to the values parameter instead of a single value, we can perform calculations on multiple columns at once.\n",
        "\n",
        "We can also specify a custom calculation to be made. For instance, if we pass **np.sum** to the **aggfunc** parameter it will total the values in each column.\n",
        "\n",
        "**Exercise**\n",
        "\n",
        "<img width=\"100\" src=\"https://drive.google.com/uc?export=view&id=1E8tR7B9YYUXsU_rddJAyq0FrM0MSelxZ\">\n",
        "\n",
        "\n",
        "\n",
        "**Description**:\n",
        "\n",
        "1. Make a pivot table that calculates the total fares collected (**\"fare\"**) and total number of survivors (**\"survived\"**) for each embarkation port (**\"embarked\"**).\n",
        "2. Assign the result to **port_stats**.\n",
        "3. Display **port_stats** using the **print()** function."
      ]
    },
    {
      "metadata": {
        "colab_type": "code",
        "id": "SCNU7GagHTpb",
        "colab": {}
      },
      "cell_type": "code",
      "source": [
        "# put your code here"
      ],
      "execution_count": 0,
      "outputs": []
    },
    {
      "metadata": {
        "colab_type": "text",
        "id": "Yv2q7mfrz8Zx"
      },
      "cell_type": "markdown",
      "source": [
        "## 8 Droping missing values\n"
      ]
    },
    {
      "metadata": {
        "colab_type": "text",
        "id": "3vOV2HLLIYs0"
      },
      "cell_type": "markdown",
      "source": [
        "\n",
        "We learned how to remove the missing values in a vector of data, but how about in a matrix?\n",
        "\n",
        "We can use the [DataFrame.dropna()](http://pandas.pydata.org/pandas-docs/stable/generated/pandas.DataFrame.dropna.html) method on pandas **DataFrames** to do this. The method will drop any rows that contain missing values.\n",
        "\n",
        "The **dropna()** method takes an axis parameter, which indicates whether you would like to drop rows or columns. Specifying **axis=0** or **axis='index'** will drop any rows that have null values, while specifying **axis=1** or **axis='columns'** will drop any columns that have null values. We will use **0** and **1** since they're more commonly used, but you can use either.\n",
        "\n",
        "The code below will drop all rows in **titanic_survival** that have null values.\n",
        "\n",
        "```python\n",
        "drop_na_rows = titanic_survival.dropna(axis=0)\n",
        "```\n",
        "\n",
        "There is also a parameter that allows you to specify a list of columns or rows to look at when using **dropna()**. You will need to use this in the next exercise - take a look at the [documentation](http://pandas.pydata.org/pandas-docs/stable/generated/pandas.DataFrame.dropna.html) to work out the name of this parameter and how it works.\n",
        "\n",
        "**Exercise**\n",
        "\n",
        "<img width=\"100\" src=\"https://drive.google.com/uc?export=view&id=1E8tR7B9YYUXsU_rddJAyq0FrM0MSelxZ\">\n",
        "\n",
        "\n",
        "**Description**:\n",
        "\n",
        "1. Drop all columns in **titanic_survival** that have missing values and assign the result to **drop_na_columns**.\n",
        "2. Drop all rows in **titanic_survival** where the columns **\"age\"** or **\"sex\"** have missing values and assign the result to **new_titanic_survival**.\n"
      ]
    },
    {
      "metadata": {
        "colab_type": "code",
        "id": "9ralxmbKNoRe",
        "colab": {}
      },
      "cell_type": "code",
      "source": [
        "# put your code here"
      ],
      "execution_count": 0,
      "outputs": []
    },
    {
      "metadata": {
        "colab_type": "text",
        "id": "pe1lsdQrJ3eO"
      },
      "cell_type": "markdown",
      "source": [
        "## 9 Guided Challenge"
      ]
    },
    {
      "metadata": {
        "colab_type": "code",
        "id": "jOOBWYBmz8aH",
        "colab": {}
      },
      "cell_type": "code",
      "source": [
        "titanic_survival[\"agecat\"] = pd.cut(titanic_survival.age,\n",
        "                        bins=[0,5,10,18,30,50,65,100],\n",
        "                        labels=[\"Infant\",\"Child\",\"Teenager\",\n",
        "                                \"Young adult\",\"Adult\",\"Senior adult\",\"Senior\"])"
      ],
      "execution_count": 0,
      "outputs": []
    },
    {
      "metadata": {
        "colab_type": "code",
        "id": "SUHiFHO5KzvZ",
        "outputId": "ea309269-5fd0-4ff3-ea5c-9fe3466a4c0e",
        "colab": {
          "base_uri": "https://localhost:8080/",
          "height": 136
        }
      },
      "cell_type": "code",
      "source": [
        "titanic_survival.agecat.head()"
      ],
      "execution_count": 47,
      "outputs": [
        {
          "output_type": "execute_result",
          "data": {
            "text/plain": [
              "0    Young adult\n",
              "1         Infant\n",
              "2         Infant\n",
              "3    Young adult\n",
              "4    Young adult\n",
              "Name: agecat, dtype: category\n",
              "Categories (7, object): [Infant < Child < Teenager < Young adult < Adult < Senior adult < Senior]"
            ]
          },
          "metadata": {
            "tags": []
          },
          "execution_count": 47
        }
      ]
    },
    {
      "metadata": {
        "colab_type": "code",
        "id": "7eDQwA_uz8aK",
        "outputId": "b07ba56f-e626-4552-ec28-071d31a4e7ee",
        "colab": {
          "base_uri": "https://localhost:8080/",
          "height": 514
        }
      },
      "cell_type": "code",
      "source": [
        "titanic_pivot = titanic_survival.pivot_table(index=[\"agecat\",\"survived\"],\n",
        "                             values=\"age\",\n",
        "                             aggfunc=\"count\").rename(columns={\"age\": \"count\"})\n",
        "titanic_pivot"
      ],
      "execution_count": 65,
      "outputs": [
        {
          "output_type": "execute_result",
          "data": {
            "text/html": [
              "<div>\n",
              "<style scoped>\n",
              "    .dataframe tbody tr th:only-of-type {\n",
              "        vertical-align: middle;\n",
              "    }\n",
              "\n",
              "    .dataframe tbody tr th {\n",
              "        vertical-align: top;\n",
              "    }\n",
              "\n",
              "    .dataframe thead th {\n",
              "        text-align: right;\n",
              "    }\n",
              "</style>\n",
              "<table border=\"1\" class=\"dataframe\">\n",
              "  <thead>\n",
              "    <tr style=\"text-align: right;\">\n",
              "      <th></th>\n",
              "      <th></th>\n",
              "      <th>count</th>\n",
              "    </tr>\n",
              "    <tr>\n",
              "      <th>agecat</th>\n",
              "      <th>survived</th>\n",
              "      <th></th>\n",
              "    </tr>\n",
              "  </thead>\n",
              "  <tbody>\n",
              "    <tr>\n",
              "      <th rowspan=\"2\" valign=\"top\">Infant</th>\n",
              "      <th>0.0</th>\n",
              "      <td>19</td>\n",
              "    </tr>\n",
              "    <tr>\n",
              "      <th>1.0</th>\n",
              "      <td>37</td>\n",
              "    </tr>\n",
              "    <tr>\n",
              "      <th rowspan=\"2\" valign=\"top\">Child</th>\n",
              "      <th>0.0</th>\n",
              "      <td>17</td>\n",
              "    </tr>\n",
              "    <tr>\n",
              "      <th>1.0</th>\n",
              "      <td>13</td>\n",
              "    </tr>\n",
              "    <tr>\n",
              "      <th rowspan=\"2\" valign=\"top\">Teenager</th>\n",
              "      <th>0.0</th>\n",
              "      <td>62</td>\n",
              "    </tr>\n",
              "    <tr>\n",
              "      <th>1.0</th>\n",
              "      <td>45</td>\n",
              "    </tr>\n",
              "    <tr>\n",
              "      <th rowspan=\"2\" valign=\"top\">Young adult</th>\n",
              "      <th>0.0</th>\n",
              "      <td>263</td>\n",
              "    </tr>\n",
              "    <tr>\n",
              "      <th>1.0</th>\n",
              "      <td>153</td>\n",
              "    </tr>\n",
              "    <tr>\n",
              "      <th rowspan=\"2\" valign=\"top\">Adult</th>\n",
              "      <th>0.0</th>\n",
              "      <td>201</td>\n",
              "    </tr>\n",
              "    <tr>\n",
              "      <th>1.0</th>\n",
              "      <td>141</td>\n",
              "    </tr>\n",
              "    <tr>\n",
              "      <th rowspan=\"2\" valign=\"top\">Senior adult</th>\n",
              "      <th>0.0</th>\n",
              "      <td>49</td>\n",
              "    </tr>\n",
              "    <tr>\n",
              "      <th>1.0</th>\n",
              "      <td>36</td>\n",
              "    </tr>\n",
              "    <tr>\n",
              "      <th rowspan=\"2\" valign=\"top\">Senior</th>\n",
              "      <th>0.0</th>\n",
              "      <td>8</td>\n",
              "    </tr>\n",
              "    <tr>\n",
              "      <th>1.0</th>\n",
              "      <td>2</td>\n",
              "    </tr>\n",
              "  </tbody>\n",
              "</table>\n",
              "</div>"
            ],
            "text/plain": [
              "                       count\n",
              "agecat       survived       \n",
              "Infant       0.0          19\n",
              "             1.0          37\n",
              "Child        0.0          17\n",
              "             1.0          13\n",
              "Teenager     0.0          62\n",
              "             1.0          45\n",
              "Young adult  0.0         263\n",
              "             1.0         153\n",
              "Adult        0.0         201\n",
              "             1.0         141\n",
              "Senior adult 0.0          49\n",
              "             1.0          36\n",
              "Senior       0.0           8\n",
              "             1.0           2"
            ]
          },
          "metadata": {
            "tags": []
          },
          "execution_count": 65
        }
      ]
    },
    {
      "metadata": {
        "colab_type": "code",
        "id": "AOAbbHWzz8aO",
        "outputId": "1a6ffbee-42a9-4914-df76-5eacf0d746aa",
        "colab": {
          "base_uri": "https://localhost:8080/",
          "height": 514
        }
      },
      "cell_type": "code",
      "source": [
        "titanic_survival.pivot_table(index=[\"agecat\",\"survived\"],\n",
        "                 values=\"age\",\n",
        "                 aggfunc=lambda x: len(x)/len(titanic_survival)).rename(columns={\"age\":\"survived_rate\"})"
      ],
      "execution_count": 66,
      "outputs": [
        {
          "output_type": "execute_result",
          "data": {
            "text/html": [
              "<div>\n",
              "<style scoped>\n",
              "    .dataframe tbody tr th:only-of-type {\n",
              "        vertical-align: middle;\n",
              "    }\n",
              "\n",
              "    .dataframe tbody tr th {\n",
              "        vertical-align: top;\n",
              "    }\n",
              "\n",
              "    .dataframe thead th {\n",
              "        text-align: right;\n",
              "    }\n",
              "</style>\n",
              "<table border=\"1\" class=\"dataframe\">\n",
              "  <thead>\n",
              "    <tr style=\"text-align: right;\">\n",
              "      <th></th>\n",
              "      <th></th>\n",
              "      <th>survived_rate</th>\n",
              "    </tr>\n",
              "    <tr>\n",
              "      <th>agecat</th>\n",
              "      <th>survived</th>\n",
              "      <th></th>\n",
              "    </tr>\n",
              "  </thead>\n",
              "  <tbody>\n",
              "    <tr>\n",
              "      <th rowspan=\"2\" valign=\"top\">Infant</th>\n",
              "      <th>0.0</th>\n",
              "      <td>0.014504</td>\n",
              "    </tr>\n",
              "    <tr>\n",
              "      <th>1.0</th>\n",
              "      <td>0.028244</td>\n",
              "    </tr>\n",
              "    <tr>\n",
              "      <th rowspan=\"2\" valign=\"top\">Child</th>\n",
              "      <th>0.0</th>\n",
              "      <td>0.012977</td>\n",
              "    </tr>\n",
              "    <tr>\n",
              "      <th>1.0</th>\n",
              "      <td>0.009924</td>\n",
              "    </tr>\n",
              "    <tr>\n",
              "      <th rowspan=\"2\" valign=\"top\">Teenager</th>\n",
              "      <th>0.0</th>\n",
              "      <td>0.047328</td>\n",
              "    </tr>\n",
              "    <tr>\n",
              "      <th>1.0</th>\n",
              "      <td>0.034351</td>\n",
              "    </tr>\n",
              "    <tr>\n",
              "      <th rowspan=\"2\" valign=\"top\">Young adult</th>\n",
              "      <th>0.0</th>\n",
              "      <td>0.200763</td>\n",
              "    </tr>\n",
              "    <tr>\n",
              "      <th>1.0</th>\n",
              "      <td>0.116794</td>\n",
              "    </tr>\n",
              "    <tr>\n",
              "      <th rowspan=\"2\" valign=\"top\">Adult</th>\n",
              "      <th>0.0</th>\n",
              "      <td>0.153435</td>\n",
              "    </tr>\n",
              "    <tr>\n",
              "      <th>1.0</th>\n",
              "      <td>0.107634</td>\n",
              "    </tr>\n",
              "    <tr>\n",
              "      <th rowspan=\"2\" valign=\"top\">Senior adult</th>\n",
              "      <th>0.0</th>\n",
              "      <td>0.037405</td>\n",
              "    </tr>\n",
              "    <tr>\n",
              "      <th>1.0</th>\n",
              "      <td>0.027481</td>\n",
              "    </tr>\n",
              "    <tr>\n",
              "      <th rowspan=\"2\" valign=\"top\">Senior</th>\n",
              "      <th>0.0</th>\n",
              "      <td>0.006107</td>\n",
              "    </tr>\n",
              "    <tr>\n",
              "      <th>1.0</th>\n",
              "      <td>0.001527</td>\n",
              "    </tr>\n",
              "  </tbody>\n",
              "</table>\n",
              "</div>"
            ],
            "text/plain": [
              "                       survived_rate\n",
              "agecat       survived               \n",
              "Infant       0.0            0.014504\n",
              "             1.0            0.028244\n",
              "Child        0.0            0.012977\n",
              "             1.0            0.009924\n",
              "Teenager     0.0            0.047328\n",
              "             1.0            0.034351\n",
              "Young adult  0.0            0.200763\n",
              "             1.0            0.116794\n",
              "Adult        0.0            0.153435\n",
              "             1.0            0.107634\n",
              "Senior adult 0.0            0.037405\n",
              "             1.0            0.027481\n",
              "Senior       0.0            0.006107\n",
              "             1.0            0.001527"
            ]
          },
          "metadata": {
            "tags": []
          },
          "execution_count": 66
        }
      ]
    },
    {
      "metadata": {
        "colab_type": "code",
        "id": "Pc9vQSrFz8aS",
        "colab": {
          "base_uri": "https://localhost:8080/",
          "height": 514
        },
        "outputId": "672e1af3-8e28-4066-db39-6be1ecee4769"
      },
      "cell_type": "code",
      "source": [
        "titanic_pivot[\"survived_rate\"] = titanic_pivot[\"count\"]/titanic_pivot[\"count\"].sum()\n",
        "titanic_pivot"
      ],
      "execution_count": 68,
      "outputs": [
        {
          "output_type": "execute_result",
          "data": {
            "text/html": [
              "<div>\n",
              "<style scoped>\n",
              "    .dataframe tbody tr th:only-of-type {\n",
              "        vertical-align: middle;\n",
              "    }\n",
              "\n",
              "    .dataframe tbody tr th {\n",
              "        vertical-align: top;\n",
              "    }\n",
              "\n",
              "    .dataframe thead th {\n",
              "        text-align: right;\n",
              "    }\n",
              "</style>\n",
              "<table border=\"1\" class=\"dataframe\">\n",
              "  <thead>\n",
              "    <tr style=\"text-align: right;\">\n",
              "      <th></th>\n",
              "      <th></th>\n",
              "      <th>count</th>\n",
              "      <th>survived_rate</th>\n",
              "    </tr>\n",
              "    <tr>\n",
              "      <th>agecat</th>\n",
              "      <th>survived</th>\n",
              "      <th></th>\n",
              "      <th></th>\n",
              "    </tr>\n",
              "  </thead>\n",
              "  <tbody>\n",
              "    <tr>\n",
              "      <th rowspan=\"2\" valign=\"top\">Infant</th>\n",
              "      <th>0.0</th>\n",
              "      <td>19</td>\n",
              "      <td>0.018164</td>\n",
              "    </tr>\n",
              "    <tr>\n",
              "      <th>1.0</th>\n",
              "      <td>37</td>\n",
              "      <td>0.035373</td>\n",
              "    </tr>\n",
              "    <tr>\n",
              "      <th rowspan=\"2\" valign=\"top\">Child</th>\n",
              "      <th>0.0</th>\n",
              "      <td>17</td>\n",
              "      <td>0.016252</td>\n",
              "    </tr>\n",
              "    <tr>\n",
              "      <th>1.0</th>\n",
              "      <td>13</td>\n",
              "      <td>0.012428</td>\n",
              "    </tr>\n",
              "    <tr>\n",
              "      <th rowspan=\"2\" valign=\"top\">Teenager</th>\n",
              "      <th>0.0</th>\n",
              "      <td>62</td>\n",
              "      <td>0.059273</td>\n",
              "    </tr>\n",
              "    <tr>\n",
              "      <th>1.0</th>\n",
              "      <td>45</td>\n",
              "      <td>0.043021</td>\n",
              "    </tr>\n",
              "    <tr>\n",
              "      <th rowspan=\"2\" valign=\"top\">Young adult</th>\n",
              "      <th>0.0</th>\n",
              "      <td>263</td>\n",
              "      <td>0.251434</td>\n",
              "    </tr>\n",
              "    <tr>\n",
              "      <th>1.0</th>\n",
              "      <td>153</td>\n",
              "      <td>0.146272</td>\n",
              "    </tr>\n",
              "    <tr>\n",
              "      <th rowspan=\"2\" valign=\"top\">Adult</th>\n",
              "      <th>0.0</th>\n",
              "      <td>201</td>\n",
              "      <td>0.192161</td>\n",
              "    </tr>\n",
              "    <tr>\n",
              "      <th>1.0</th>\n",
              "      <td>141</td>\n",
              "      <td>0.134799</td>\n",
              "    </tr>\n",
              "    <tr>\n",
              "      <th rowspan=\"2\" valign=\"top\">Senior adult</th>\n",
              "      <th>0.0</th>\n",
              "      <td>49</td>\n",
              "      <td>0.046845</td>\n",
              "    </tr>\n",
              "    <tr>\n",
              "      <th>1.0</th>\n",
              "      <td>36</td>\n",
              "      <td>0.034417</td>\n",
              "    </tr>\n",
              "    <tr>\n",
              "      <th rowspan=\"2\" valign=\"top\">Senior</th>\n",
              "      <th>0.0</th>\n",
              "      <td>8</td>\n",
              "      <td>0.007648</td>\n",
              "    </tr>\n",
              "    <tr>\n",
              "      <th>1.0</th>\n",
              "      <td>2</td>\n",
              "      <td>0.001912</td>\n",
              "    </tr>\n",
              "  </tbody>\n",
              "</table>\n",
              "</div>"
            ],
            "text/plain": [
              "                       count  survived_rate\n",
              "agecat       survived                      \n",
              "Infant       0.0          19       0.018164\n",
              "             1.0          37       0.035373\n",
              "Child        0.0          17       0.016252\n",
              "             1.0          13       0.012428\n",
              "Teenager     0.0          62       0.059273\n",
              "             1.0          45       0.043021\n",
              "Young adult  0.0         263       0.251434\n",
              "             1.0         153       0.146272\n",
              "Adult        0.0         201       0.192161\n",
              "             1.0         141       0.134799\n",
              "Senior adult 0.0          49       0.046845\n",
              "             1.0          36       0.034417\n",
              "Senior       0.0           8       0.007648\n",
              "             1.0           2       0.001912"
            ]
          },
          "metadata": {
            "tags": []
          },
          "execution_count": 68
        }
      ]
    }
  ]
}