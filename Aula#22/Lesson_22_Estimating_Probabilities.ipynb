{
  "nbformat": 4,
  "nbformat_minor": 0,
  "metadata": {
    "colab": {
      "name": "Lesson 22 - Estimating Probabilities.ipynb",
      "version": "0.3.2",
      "provenance": [],
      "collapsed_sections": []
    },
    "kernelspec": {
      "name": "python3",
      "display_name": "Python 3"
    }
  },
  "cells": [
    {
      "cell_type": "markdown",
      "metadata": {
        "id": "yqvr2KHKNUF_",
        "colab_type": "text"
      },
      "source": [
        "# 1 - Estimating Probabilities"
      ]
    },
    {
      "cell_type": "markdown",
      "metadata": {
        "id": "aNYRsxJAYjUl",
        "colab_type": "text"
      },
      "source": [
        "## 1.1 Introduciton"
      ]
    },
    {
      "cell_type": "markdown",
      "metadata": {
        "id": "jYYhsT_hPa98",
        "colab_type": "text"
      },
      "source": [
        "Science and engineering have seen amazing progress over the last few centuries. We are now able to launch a spacecraft from Earth and predict it will arrive on Mars at a certain time and location. However, it looks like not everything is as easy to predict as the trajectory of a spacecraft.\n",
        "\n",
        "Take tossing a coin, for instance — as ridiculous as it may sound, we're not able to predict with certainty whether the coin is going to land on heads or tails. And that's because a coin toss is a very complex phenomenon. The outcome depends on mutiple factors — the strength and the angle of the toss, the friction of the coin with air, the landing angle, the surface the coin lands on, etc.\n",
        "\n",
        "<img width=\"800\" src=\"https://drive.google.com/uc?export=view&id=1g-X6moFjytwUcaT3FNjyzeDWfuH3D8DN\">\n",
        "\n",
        "Although we can't tell beforehand the outcome of a coin toss, we'll learn in this lesson that we're able to at least estimate the **probability** (the chances) of a coin landing on heads or tails. This may sound like a limitation, and in a way it is, but estimating probabilities is an extremely powerful technique that can enable us to build non-trivial applications, including:\n",
        "\n",
        "- Image recognition systems (used for self-driving cars, medical diagnosis, etc.)\n",
        "- Spam filters for inboxes\n",
        "- Statistical hypothesis tests\n",
        "\n",
        "Throughout this lesson, we'll learn:\n",
        "\n",
        "- How to estimate probabilities theoretically and empirically.\n",
        "- What are the fundamental rules of probability.\n",
        "- Counting techniques — tree diagrams, permutations, and combinations.\n",
        "\n",
        "Let's start with estimating the probability of a coin landing heads up."
      ]
    },
    {
      "cell_type": "markdown",
      "metadata": {
        "id": "F9qQkk9lP4cT",
        "colab_type": "text"
      },
      "source": [
        "## 1.2 The Empirical Probability"
      ]
    },
    {
      "cell_type": "markdown",
      "metadata": {
        "id": "N3eNfuuEQpE4",
        "colab_type": "text"
      },
      "source": [
        "In the previous section, we talked about the difficulty of predicting the outcome of a coin toss. Whenever we can't predict outcomes with certainty, we're dealing with a **random experiment**.\n",
        "\n",
        "The toss of a coin is a random experiment, just like drawing lottery numbers or rolling a die. The term \"experiment\" might make you think about science, but the term here has a wider meaning — a random experiment is any process for which we can't predict outcomes with certainty.\n",
        "\n",
        "Although we can't predict the outcome of a random experiment, we can at least estimate the probability (the chances) associated with its outcomes. A coin toss has two possible outcomes, and we can estimate the probability associated with the coin landing on heads or tails.\n",
        "\n",
        "Let's say we're interested in estimating the probability of a coin landing on heads. To estimate the probability, we can take the following steps:\n",
        "\n",
        "- Toss the coin many times (thus repeating the random experiment).\n",
        "- Count the number of times the coin landed on heads.\n",
        "- Divide the number of heads by the total number of times we tossed the coin.\n",
        "\n",
        "Dividing the number of heads by the total number of times we tossed the coin gives us the probability of a coin landing heads up. Let's say we tossed a coin 100 times and got heads 56 times. We find the probability of a coin landing heads up by dividing the number of heads (56) by the total number of times we tossed the coin (100). This is $\\displaystyle \\frac{56}{100}$, so the probability of a coin landing heads up is 0.56.\n",
        "\n",
        "<img width=\"600\" src=\"https://drive.google.com/uc?export=view&id=12FrlOK4BOcNkFT0wXRVo4totpWAv31Mj\">\n",
        "\n",
        "In probability notation, we could write this as:\n",
        "\n",
        "$\n",
        "Probability(coin \\  lands \\  heads \\  up) = 0.56\n",
        "$\n",
        "\n",
        "We read the mathematical expression above as \"the probability of the event coin lands heads up is 0.56.\" For simplicity, the notation is often compressed, and \"Probability\" becomes \"P\", while \"coin lands heads up\" becomes simply \"heads\" or \"H\":\n",
        "\n",
        "$\n",
        "P(H) = 0.56\n",
        "$\n",
        "\n",
        "In other resources, you may find a slightly different notation, like $p(H)$  or $Pr(H)$ , but $P(H)$ is generally preferred.\n",
        "\n",
        "Generally, for any event \"E\" (like a coin landing heads up), we can find its probability by using the following formula:\n",
        "\n",
        "$\n",
        "P(E) = \\displaystyle \\frac{number \\ of \\ times \\ event \\ E \\ happened}{number \\ of \\ times \\ we \\ repeated \\ the \\ experiment}\n",
        "$\n",
        "\n",
        "When we calculate the probability of an event by performing an experiment one or more times, we calculate the **experimental** — or **empirical probability** — of the event. Later in this lesson, we'll learn a different way of estimating probabilities, but for now let's stop for a few exercises.\n",
        "\n",
        "**Exercise**\n",
        "\n",
        "<img width=\"100\" src=\"https://drive.google.com/uc?export=view&id=1E8tR7B9YYUXsU_rddJAyq0FrM0MSelxZ\">\n",
        "\n",
        "**Description**:\n",
        "\n",
        "\n",
        "- Just like in our example above, we tossed a coin 100 times and got heads 56 times. Calculate the probability of getting tails using the formula above and assign the result to **p_tail**.\n",
        "- We rolled a regular six-sided die 200 times and:\n",
        "  - We got a six 28 times. Calculate the probability of getting a 6 when rolling a six-sided die. - Assign the result to **p_six**.\n",
        "  - We got an odd number (a 1, a 3, or a 5) 102 times. Calculate the probability of getting an odd number when rolling a six-sided die. Assign the result to **p_odd**.\n",
        "- Print **p_tail**, **p_six**, and **p_odd** to examine the probabilities."
      ]
    },
    {
      "cell_type": "code",
      "metadata": {
        "id": "n9fCdNXLRR-q",
        "colab_type": "code",
        "colab": {}
      },
      "source": [
        "# put your code here"
      ],
      "execution_count": 0,
      "outputs": []
    },
    {
      "cell_type": "markdown",
      "metadata": {
        "id": "EZtGH9TfVUjT",
        "colab_type": "text"
      },
      "source": [
        "## 1.3  Probability as a relative frequency"
      ]
    },
    {
      "cell_type": "markdown",
      "metadata": {
        "id": "mXzWkekMVZ15",
        "colab_type": "text"
      },
      "source": [
        "In the example we used in the previous section, we divided the number of heads by the number of times we tossed the coin to find the empirical probability of \"H\" (coin lands heads up):\n",
        "\n",
        "$\n",
        "P(H) = \\displaystyle \\frac{56 \\ heads}{100 \\ tosses} = 0.56\n",
        "$\n",
        "\n",
        "Notice, however, that 0.56 represents the **proportion** of heads from the total number of tosses. As we've learned in Lesson 14, we can convert proportions to percentages:\n",
        "\n",
        "$\n",
        "P(H) = 0.56 = 56\\%\n",
        "$\n",
        "\n",
        "This tells us that the **empirical probability** of an event is nothing but the **relative frequency** (proportion or percentage) of that event with respect to the total number of times the experiment was performed.\n",
        "\n",
        "Using percentages gives us a more intuitive understanding of what a probability value really is. For instance $P(H)=56\\%$,  tells us that for any coin toss, there's a 56% chance the coin will land heads up. So just before we're about to toss a coin, we may not be able to predict the outcome, but at least we know there's a 56% chance the coin will land heads up. Let's do a few more exercises.\n",
        "\n",
        "**Exercise**\n",
        "\n",
        "<img width=\"100\" src=\"https://drive.google.com/uc?export=view&id=1E8tR7B9YYUXsU_rddJAyq0FrM0MSelxZ\">\n",
        "\n",
        "**Description**:\n",
        "\n",
        "- We tossed a coin 300 times and got tails 162 times.\n",
        "  - Find the probability of getting **heads**. Assign your result to **p_heads_1**.\n",
        "  - Transform the probability in **p_heads_1** to a percentage value. Assign the result to **percentage_1**.\n",
        "- In a different trial, we tossed a coin 5,000 times and got tails 2,450 times.\n",
        "  - Find the probability of getting **heads**. Assign your result to **p_heads_2**.\n",
        "  - Transform the probability in **p_heads_2** to a percentage value. Assign the result to **percentage_2**."
      ]
    },
    {
      "cell_type": "code",
      "metadata": {
        "id": "s7XTDzrPVzXZ",
        "colab_type": "code",
        "colab": {}
      },
      "source": [
        "# put your code here"
      ],
      "execution_count": 0,
      "outputs": []
    },
    {
      "cell_type": "markdown",
      "metadata": {
        "id": "SG62zuZsX-Qw",
        "colab_type": "text"
      },
      "source": [
        "## 1.4 Repeating an Experiment"
      ]
    },
    {
      "cell_type": "markdown",
      "metadata": {
        "id": "VHnSuv6oYBfj",
        "colab_type": "text"
      },
      "source": [
        "In the previous exercise, we tossed a coin 300 times, and found that $P(H)=46\\%$. Then, we tossed a coin 5,000 times and found that $P(H)=51\\%$. But if different number of tosses give different probability values, then what's the true value of P(H)?\n",
        "\n",
        "To answer this question, we're going to do a thought experiment where we assume we already know that the true probability of P(H) is 50%. We'll also assume the chances are the same for getting tails, so $P(T)=50\\%$ (P(T) is an abbreviation for P(Tails)).\n",
        "\n",
        "Using these assumptions, we're going to use Python to simulate a coin toss 10,000 times and watch how P(H) evolves as the number of tosses increases. We begin by writing a function named **coin_toss()** that can simulate a single coin toss:"
      ]
    },
    {
      "cell_type": "code",
      "metadata": {
        "id": "zDxGjHiCY4KR",
        "colab_type": "code",
        "outputId": "c9b74300-f704-45ea-84f0-a9054f04f4bc",
        "colab": {
          "base_uri": "https://localhost:8080/",
          "height": 34
        }
      },
      "source": [
        "from numpy.random import seed, randint\n",
        "\n",
        "seed(1)\n",
        "\n",
        "def coin_toss():\n",
        "    if randint(0, 2) == 1:\n",
        "        return 'HEAD'\n",
        "    else:\n",
        "        return 'TAIL'\n",
        "\n",
        "coin_toss()"
      ],
      "execution_count": 0,
      "outputs": [
        {
          "output_type": "execute_result",
          "data": {
            "text/plain": [
              "'HEAD'"
            ]
          },
          "metadata": {
            "tags": []
          },
          "execution_count": 1
        }
      ]
    },
    {
      "cell_type": "markdown",
      "metadata": {
        "id": "GMuD6_UtZIR_",
        "colab_type": "text"
      },
      "source": [
        "In the code above:\n",
        "\n",
        "- We used the [seed() function](https://docs.scipy.org/doc/numpy/reference/generated/numpy.random.seed.html) to set a random seed for reproducibility (we covered reproducibility and random seeds in Lesson 12).\n",
        "- We used the [randint(0, 2) function](https://docs.scipy.org/doc/numpy/reference/generated/numpy.random.randint.html) to generate randomly either a 0 or a 1 (2 won't be included). Because randint() generates numbers randomly, there's a 50\\% chance to get a 0 and 50\\% chance to get a 1 — this helps us introduce in our code a logic for $P(H)=50\\%$  and $P(T)=50\\%$.\n",
        "- If **randint(0, 2)** returns 1, our **coin_toss()** function returns 'HEAD', otherwise it returns **'TAIL'**.\n",
        "\n",
        "Now let's repeat the experiment 10,000 times in the exercise below. On the section, we'll analyze the results using a line plot and see how P(H) evolves as the number of tosses increases. Remember that the point of this experiment is to help us understand the true value of P(H).\n",
        "\n",
        "**Exercise**\n",
        "\n",
        "<img width=\"100\" src=\"https://drive.google.com/uc?export=view&id=1E8tR7B9YYUXsU_rddJAyq0FrM0MSelxZ\">\n",
        "\n",
        "\n",
        "- For this exercise, we already defined the function **coin_toss()** and the variables **probabilities** and **heads**. We're going to repeat the coin toss 10,000 times, and for each toss we want to save the value of P(H) up to that point.\n",
        "- For each of the 10,000 iterations of a for loop:\n",
        "  - Save the outcome of the **coin_toss()** function to a variable named **outcome**.\n",
        "  - If **outcome** stores the string 'HEAD', then increase the value of **heads** by 1.\n",
        "  - Divide **heads** by **n** to get the current value of P(H). Assign the value to **current_probability**.\n",
        "    - **n** comes from **for n in range(1, 10001)**\n",
        "  - Append **current_probability** to the list **probabilities**. The probabilities should be expressed as proportions, not percentages.\n",
        "- Print the first and last 10 values in probabilities to inspect the evolution of P(H). What do you observe? "
      ]
    },
    {
      "cell_type": "code",
      "metadata": {
        "id": "HkdaPDp_ahBa",
        "colab_type": "code",
        "colab": {}
      },
      "source": [
        "from numpy.random import seed, randint\n",
        "\n",
        "seed(1)\n",
        "\n",
        "def coin_toss():\n",
        "    if randint(0,2) == 1:\n",
        "        return 'HEAD'\n",
        "    else:\n",
        "        return 'TAIL'\n",
        "    \n",
        "probabilities = []\n",
        "heads = 0\n",
        "\n",
        "#for n in range(1, 10001):\n",
        "    # Uncomment above and complete code from here\n"
      ],
      "execution_count": 0,
      "outputs": []
    },
    {
      "cell_type": "markdown",
      "metadata": {
        "id": "Qly4GlVOcLki",
        "colab_type": "text"
      },
      "source": [
        "## 1.5 The True Probability Value"
      ]
    },
    {
      "cell_type": "markdown",
      "metadata": {
        "id": "NnOnkPnvcMmb",
        "colab_type": "text"
      },
      "source": [
        "In the previous exercise, we repeated a coin toss 10,000 times, and saved the results at the end of each toss. Using the probabilities we stored in the **probabilities** list, we created the line plot below, which shows the evolution of P(H) as the number of coin tosses increases.\n",
        "\n",
        "<img width=\"500\" src=\"https://drive.google.com/uc?export=view&id=1Hxqzl4D2_mKzt0lkPIeLDI4_SzWdX-hQ\">\n",
        "\n",
        "Above, we see that for the first 1,000 tosses or so, the value of P(H) varies a lot, with a maximum of 1.0 and a minimum of approximately 0.45. However, as the number of tosses increases, the value of P(H) tends to stabilize.\n",
        "\n",
        "Interestingly enough, P(H) stabilizes around the true value of P(H), which we assumed to be $P(H)=0.50 = 50\\%$  on the last section. This suggests that the greater the number of coin tosses, the closer P(H) gets to the true value. If we take a look at the last few probabilities and round them all to two decimal places, we can see the values are all 0.50 (the values below are not yet rounded to two decimal places):"
      ]
    },
    {
      "cell_type": "code",
      "metadata": {
        "id": "SA1hqqgZdERn",
        "colab_type": "code",
        "outputId": "803edf2a-7c0f-4552-fc4e-5e8a3b05bac7",
        "colab": {
          "base_uri": "https://localhost:8080/",
          "height": 102
        }
      },
      "source": [
        "probabilities[-5:]"
      ],
      "execution_count": 0,
      "outputs": [
        {
          "output_type": "execute_result",
          "data": {
            "text/plain": [
              "[0.4992997198879552,\n",
              " 0.49934980494148246,\n",
              " 0.4993998799759952,\n",
              " 0.49934993499349933,\n",
              " 0.4994]"
            ]
          },
          "metadata": {
            "tags": []
          },
          "execution_count": 2
        }
      ]
    },
    {
      "cell_type": "markdown",
      "metadata": {
        "id": "0GpIgnnANsGm",
        "colab_type": "text"
      },
      "source": [
        "This gives us some insight into our initial question, which was: if different numbers of tosses give different probability values, then what's the true value of P(H)? The true P(H) is given by the relative frequency (expressed as proportion or percentage) of heads as the number of coin tosses increases without bound — the more we repeat the toss, the closer we should be to the true probability.\n",
        "\n",
        "Generally, the probability of an event (a coin landing heads up, getting a 5 when we roll a die, etc.) approaches the true probability value as the number of trials of the random experiment (a coin toss, the rolling of a die, etc.) increases without bound.\n",
        "\n",
        "So far, we've only focused on empirical probabilities. On the next section, we'll look at a different technique to estimate probabilities — a technique you might be more familiar with. For the next exercise, we're going to leave aside the coin toss experiment and consider a more practical example.\n",
        "\n",
        "\n",
        "**Exercise**\n",
        "\n",
        "<img width=\"100\" src=\"https://drive.google.com/uc?export=view&id=1E8tR7B9YYUXsU_rddJAyq0FrM0MSelxZ\">\n",
        "\n",
        "\n",
        "An insurance company conducted a study with 200 individuals, and found that:\n",
        "\n",
        "- 87 individuals opted for at least a life insurance policy.\n",
        "- 40 individuals opted for at least life and car insurance policies.\n",
        "- 63 individuals opted for at least a house insurance policy.\n",
        "- 160 individuals opted for at least one type of insurance policy.\n",
        "\n",
        "We can't predict people's choices with certainty, so an individual choosing to buy an insurance policy is a random experiment. 200 individuals were part of the study, so you can consider the random experiment was performed 200 times. Find:\n",
        "\n",
        "- P(L): The probability that a new customer opts for at least a life insurance. Assign your answer to a variable named **p_l**.\n",
        "- P(L and C): The probability that an individual opts for at least a life and a car insurance policy. Assign your answer to a variable named **p_l_and_c**.\n",
        "- P(H): The probability that an individual opts for at least a house insurance policy. Assign your answer to a variable named **p_h**.\n",
        "- P(NO): The probability that an individual opts for no insurance at all. Assign your answer to a variable named **p_no**."
      ]
    },
    {
      "cell_type": "code",
      "metadata": {
        "id": "CCLhKxXbOFwZ",
        "colab_type": "code",
        "colab": {}
      },
      "source": [
        "# put your answer here"
      ],
      "execution_count": 0,
      "outputs": []
    },
    {
      "cell_type": "markdown",
      "metadata": {
        "id": "mxZnM82QPQDv",
        "colab_type": "text"
      },
      "source": [
        "## 1.6 The Theoretical Probability"
      ]
    },
    {
      "cell_type": "markdown",
      "metadata": {
        "id": "s5eOddX5Pd19",
        "colab_type": "text"
      },
      "source": [
        "So far, we learned we need to perform an experiment to estimate probability values. We also said that a probability value estimated by performing an experiment is called empirical (or experimental) probability. To find the empirical probability of any event \"E\" (like a coin landing heads up), we learned to use the formula:\n",
        "\n",
        "$\n",
        "P(E) = \\displaystyle \\frac{number \\ of \\ times \\ event \\ E \\ happened}{number \\ of \\ times \\ we \\ repeated \\ the \\ experiment}\n",
        "$\n",
        "\n",
        "However, properly calculating empirical probabilities requires us to perform a random experiment many times, which may not always be feasible in practice. An easier way to estimate probabilities is to start with the assumption that the outcomes of a random experiment have equal chances of occurring. This allows us to use the following formula to calculate the probability of an event \"E\":\n",
        "\n",
        "$\n",
        "P(E) = \\displaystyle \\frac{1}{number \\ of \\ possible \\ outcomes}\n",
        "$\n",
        "\n",
        "For instance, the total number of possible outcomes for a coin toss is two: heads or tails. Let \"H\" be the event that a coin lands on heads, and \"T\" the event that a coin lands on tails. We can use the formula above to find P(H) and P(T):\n",
        "\n",
        "$\n",
        "P(H) = \\displaystyle \\frac{1}{2} = 0.5\\\\\n",
        "P(T) = \\displaystyle \\frac{1}{2} = 0.5\\\\\n",
        "$\n",
        "\n",
        "Let's also consider the rolling of a die, where there are six possible outcomes: 1, 2, 3, 4, 5 or 6. Assuming each outcome has the same chance of occurring, the probability of getting a 2 or a 4 is:\n",
        "\n",
        "$\n",
        "P(2) = \\displaystyle \\frac{1}{6} = 0.1\\bar{6}\\\\\n",
        "P(4) = \\displaystyle \\frac{1}{6} = 0.1\\bar{6}\n",
        "$\n",
        "\n",
        "When we calculate the probability of an event under the assumption that the outcomes have equal chances of occurring, we say that we're calculating the **theoretical probability** of an event.\n",
        "\n",
        "Theoretical probabilities are much easier to calculate, but in practice it doesn't always make sense to assume the outcomes of a random experiment have equal chances of occurring. If you were playing the lottery, it wouldn't be reasonable to assume that the two possible outcomes (you win or you don't) have equal chances.\n",
        "\n",
        "If you were a scientist trying to calculate the probability of a human becoming infected with the HIV virus, it wouldn't be reasonable to assume the two possible outcomes (becoming infected with HIV or not) have equal chances of occurring. Both theoretical and empirical probabilities are helpful and important in practice.\n",
        "\n",
        "On the next two screens, we'll discuss some important exceptions to the new formula we introduced above. First, let's practice calculating theoretical probabilities. For the exercises below, assume that all outcomes have equal chances of occurring.\n",
        "\n",
        "**Exercise**\n",
        "\n",
        "<img width=\"100\" src=\"https://drive.google.com/uc?export=view&id=1E8tR7B9YYUXsU_rddJAyq0FrM0MSelxZ\">\n",
        "\n",
        "- Find the theoretical probability of getting a 5 when rolling a six-sided die. Assign your answer to **p_5**.\n",
        "- Tossing a coin twice has four possible outcomes (assume all the outcomes are equally likely):\n",
        "  - Heads on the first toss and heads on the second toss (HH).\n",
        "  - Heads on the first toss and tails on the second (HT).\n",
        "  - Tails on the first toss and heads on the second (TH).\n",
        "  - Tails on the first toss and tails on the second (TT).\n",
        "  - Find:\n",
        "    - P(HT): Assign your result to **p_ht**.\n",
        "    - P(TT): Assign your result to **p_tt**.\n",
        "\n"
      ]
    },
    {
      "cell_type": "code",
      "metadata": {
        "id": "efTAujZwQGX9",
        "colab_type": "code",
        "colab": {}
      },
      "source": [
        "# put your answer here"
      ],
      "execution_count": 0,
      "outputs": []
    },
    {
      "cell_type": "markdown",
      "metadata": {
        "id": "c07Y6XVARtPN",
        "colab_type": "text"
      },
      "source": [
        "## 1.7 Events vs. Outcomes"
      ]
    },
    {
      "cell_type": "markdown",
      "metadata": {
        "id": "iaQ6W6KCR5lF",
        "colab_type": "text"
      },
      "source": [
        "So far, we've repeatedly used the terms **\"event\"** and **\"outcome\"**, and we need to add a few clarifications. An outcome is any result that a random experiment may terminate in. For instance, all the possible outcomes of rolling a six-sided die are 1, 2, 3, 4, 5, and 6. An event, however, has a richer meaning and can include more than one outcome (or even zero outcomes):\n",
        "\n",
        "- The event that we'll get an odd number when we roll a six-sided die — this event includes the outcomes 1, 3, and 5.\n",
        "- The event that we'll get a number less than 5 but greater than 1 when we roll a six-sided die — this event includes the outcomes 2, 3, and 4.\n",
        "- The event that we'll get a number greater than 20 when we roll a six-sided die — this event doesn't include any of the possible outcomes corresponding to rolling a six-sided die.\n",
        "\n",
        "Although an event can include a single outcome (like the event of getting a 2 when we roll a die), the two concepts still have a different meaning. We always assign probabilities to events, not outcomes, even if the event includes only one outcome.\n",
        "\n",
        "On the previous section, we learned we can use this formula to compute the theoretical probability of an event:\n",
        "\n",
        "$\n",
        "P(E) = \\displaystyle \\frac{1}{number \\ of \\ possible \\ outcomes}\n",
        "$\n",
        "\n",
        "However, we can't use this formula to compute theoretical probabilities for events that include more than one outcome. Take the event that we'll get any number between 1 and 6 (both included) when rolling a six-sided die. The outcomes are 1, 2, 3, 4, 5, and 6, so there are 100% chances we'll get some number between 1 and 6. Using our formula, however, we find the probability is only $16.\\bar{6}\\%$ :\n",
        "\n",
        "$\n",
        "P(number \\ between \\ 1 \\ and \\ 6) = \\displaystyle \\frac{1}{6} = 0.1\\bar{6} = 16.\\bar{6}\\%\n",
        "$\n",
        "\n",
        "To fix this problem, we need to update the formula above to:\n",
        "\n",
        "$\n",
        "P(E) = \\displaystyle \\frac{number \\ of \\ successful \\ outcomes}{number \\ of \\ possible \\ outcomes}\n",
        "$\n",
        "\n",
        "The \"number of successful outcomes\" part represents the number of outcomes included in the event \"E\", and \"total number of possible outcomes\" is the number of possible outcomes that the random experiment associated with the event \"E\" could terminate in.\n",
        "\n",
        "The event that we'll get an odd number when we roll a six-sided die includes three successful outcomes (1, 3, and 5), and the random experiment of rolling the die includes six possible outcomes (1, 2, 3, 4, 5, and 6). This means:\n",
        "\n",
        "$\n",
        "P(odd \\ number) = \\displaystyle \\frac{3}{6} = \\frac{1}{2}\n",
        "$\n",
        "\n",
        "Using the updated formula, we also find that the probability of getting a number between 1 and 6 when we roll a die is 100%, just like we'd intuitively expect:\n",
        "\n",
        "$\n",
        "P(number \\ between \\ 1 \\ and \\ 6) = \\displaystyle \\frac{6}{6} = 1 = 100\\%\n",
        "$\n",
        "\n",
        "On the next section, we'll discuss more about the formula we just learned. Let's now do a few exercises.\n",
        "\n",
        "**Exercise**\n",
        "\n",
        "<img width=\"100\" src=\"https://drive.google.com/uc?export=view&id=1E8tR7B9YYUXsU_rddJAyq0FrM0MSelxZ\">\n",
        "\n",
        "- Assume all the outcomes of rolling a six-sided die have an equal chance of occuring. Calculate as proportion the probability of the following events:\n",
        "  - We get an even number — assign your answer to **p_even**.\n",
        "  - We get an odd number different than 3 — assign your answer to **p_odd_no_3**.\n",
        "  - We get an odd number greater than 5 — assign your answer to **p_odd_greater_5**."
      ]
    },
    {
      "cell_type": "code",
      "metadata": {
        "id": "Xop4mqMESczX",
        "colab_type": "code",
        "colab": {}
      },
      "source": [
        "# put your answer here"
      ],
      "execution_count": 0,
      "outputs": []
    },
    {
      "cell_type": "markdown",
      "metadata": {
        "id": "xI34M0zQVdu3",
        "colab_type": "text"
      },
      "source": [
        "## 1.8 A Biased Die"
      ]
    },
    {
      "cell_type": "markdown",
      "metadata": {
        "id": "FcQS4_stVpBT",
        "colab_type": "text"
      },
      "source": [
        "On the last section, we came to the conclusion that we can use this formula to compute theoretical probabilities:\n",
        "\n",
        "$\n",
        "P(E) = \\displaystyle \\frac{number \\ of \\ successful \\ outcomes}{number \\ of \\ possible \\ outcomes}\n",
        "$\n",
        "\n",
        "However, let's say we have a biased six-sided die which has a 6 on three of its sides, and 1, 3, and 5 on the rest of the sides.\n",
        "\n",
        "<img width=\"500\" src=\"https://drive.google.com/uc?export=view&id=1PWsE2BbALDiKzLy76nhG-i9ndKc25K-R\">\n",
        "\n",
        "To be able to use the formula above, we need to take into account that 6 shows up on three sides. To do that, we treat each 6 as a different outcome and say that for this biased die the possible outcomes are 1, 3, 5, 6, 6 and 6.\n",
        "\n",
        "Since we treat each 6 as a different outcome, the event \"getting a 6\" has three successful outcomes: 6, 6 and 6. This means that the probability of getting a 6 is:\n",
        "\n",
        "$\n",
        "P(6) = \\displaystyle \\frac{number \\ of \\ successful \\ outcomes}{number \\ of \\ possible \\ outcomes} = \\frac{3}{6} = 0.5 = 50\\%\n",
        "$\n",
        "\n",
        "The event \"getting a 3\" has only one successful outcome, and the event \"getting a 2\" has no successful outcome, which leads to:\n",
        "\n",
        "$\n",
        "P(3) = \\displaystyle \\frac{1}{6} = 0.1\\bar{6} = 16.\\bar{6}\\%\\\\\n",
        "P(2) = \\displaystyle \\frac{0}{6} = 0\n",
        "$\n",
        "\n",
        "If we didn't treat each 6 differently and said it doesn't matter which side a 6 is on, we'd be forced to conclude the only possible outcomes are 1, 3, 5 and 6. We can definitely frame the problem like that, but the formula above won't work anymore — we see below P(6) becomes the same as P(3), but, intuitively, P(6) should be higher than P(3) since the die has 6 on three of its sides:\n",
        "\n",
        "$\n",
        "P(3) = \\displaystyle \\frac{1}{4} = 0.25 = 25\\%\\\\\n",
        "P(6) = \\displaystyle \\frac{1}{4} = 0.25 = 25\\% \\ (wrong)\n",
        "$\n",
        "\n",
        "The formula doesn't work anymore because the assumption of equally likely outcomes is violated — in this case, 6 has more chances of occurring than the other outcomes.\n",
        "\n",
        "The take-home message here is that the formula above works under the assumption that the outcomes have equal chances of occuring. If the assumption is violated, the formula will output wrong probability values. Let's consider a similar case in the exercise below.\n",
        "\n",
        "**Exercise**\n",
        "\n",
        "<img width=\"100\" src=\"https://drive.google.com/uc?export=view&id=1E8tR7B9YYUXsU_rddJAyq0FrM0MSelxZ\">\n",
        "\n",
        "In a jar of 100 marbles, 90 marbles are red and 10 are blue. Find as a proportion:\n",
        "- The probability of randomly selecting a blue marble from the jar — assign your answer to **p_blue**.\n",
        "- The probability of randomly selecting a red marble from the jar — assign your answer to **p_red**."
      ]
    },
    {
      "cell_type": "code",
      "metadata": {
        "id": "KwbyPN2EWNvU",
        "colab_type": "code",
        "colab": {}
      },
      "source": [
        "# put your answer here"
      ],
      "execution_count": 0,
      "outputs": []
    },
    {
      "cell_type": "markdown",
      "metadata": {
        "id": "A244SAqmYHsn",
        "colab_type": "text"
      },
      "source": [
        "## 1.9 Next Steps"
      ]
    },
    {
      "cell_type": "markdown",
      "metadata": {
        "id": "MLU3GF3lYMvV",
        "colab_type": "text"
      },
      "source": [
        "In this first section on probability, we learned:\n",
        "\n",
        "- How to calculate empirical probabilities.\n",
        "- How to calculate theoretical probabilities.\n",
        "- The difference between events and outcomes.\n",
        "\n",
        "In the next section, we'll learn more probability concepts that will give us a much better understanding of the probability theory.\n",
        "\n",
        "At this stage in our probability course, we focus more on simple examples (like a coin toss or rolling a die) to help you understand the concepts more easily. However, as soon as we advance, we'll start using real data sets and introduce realistic examples. We'll also use the concepts taught here to build hypothesis tests."
      ]
    },
    {
      "cell_type": "markdown",
      "metadata": {
        "id": "BZ2x26S6Zzdb",
        "colab_type": "text"
      },
      "source": [
        "# 2 - Probabilities Rules"
      ]
    },
    {
      "cell_type": "markdown",
      "metadata": {
        "id": "gnQlq-vcc0Ui",
        "colab_type": "text"
      },
      "source": [
        "## 2.1 Sample Space"
      ]
    },
    {
      "cell_type": "markdown",
      "metadata": {
        "id": "8EypzqMpZ2Ja",
        "colab_type": "text"
      },
      "source": [
        "In the last section, we learned how to calculate **empirical** and **theoretical probabilities**, and introduced a few key concepts: \n",
        "- random experiment\n",
        "- outcomes\n",
        "- and events. \n",
        "\n",
        "In this section, we'll build on this knowledge to learn new techniques.\n",
        "\n",
        "Remember that a random experiment is any process for which we can't predict outcomes with certainty. An outcome is a possible result of a random experiment, while an event can include more than one outcome.\n",
        "\n",
        "In probability theory, the outcomes of a random experiment are usually represented as a **set**. For example, this is how we can represent the outcomes of a die roll as a set:\n",
        "\n",
        "$\n",
        "Outcomes = \\{1,2,3,4,5,6\\}\n",
        "$\n",
        "\n",
        "A set is a collection of distinct objects, which means each outcome must occur only once in a set:\n",
        "\n",
        "- $\\{Heads,Tails\\}$ is an example of a valid set because all the elements are distinct.\n",
        "-$\\{Heads,Heads\\}$ is not a proper set because two elements are identical."
      ]
    },
    {
      "cell_type": "markdown",
      "metadata": {
        "id": "Ff0BjVZ0amIa",
        "colab_type": "text"
      },
      "source": [
        "Notice we also use curly braces to write a set:  $\\{Heads, Tails\\}$ is a set, while $[Heads, Tails]$ is not a set.\n",
        "\n",
        "In probability theory, the set of all possible outcomes is called a **sample space**. A sample space is often denoted by the capital Greek letter $\\Omega$ (read \"omega\"). This is how we represent the sample space of a die roll:\n",
        "\n",
        "$\n",
        "\\Omega = \\{1,2,3,4,5,6\\}\n",
        "$\n",
        "\n",
        "Let's now do a quick exercise and continue the discussion in the next section.\n",
        "\n",
        "\n",
        "**Exercise**\n",
        "\n",
        "<img width=\"100\" src=\"https://drive.google.com/uc?export=view&id=1E8tR7B9YYUXsU_rddJAyq0FrM0MSelxZ\">\n",
        "\n",
        "**Description**:\n",
        "\n",
        "We toss a normal coin two times. Find the sample space of this experiment and assign it to the list **coin_toss_omega**.\n",
        "- One of the outcomes is heads first, tails second. Abbreviate heads as H, tails as T, and assign the string 'HT' (heads first, tails second) to the list **coin_toss_omega**. Repeat this pattern for the other outcomes."
      ]
    },
    {
      "cell_type": "code",
      "metadata": {
        "id": "X6k2c4GhcDOj",
        "colab_type": "code",
        "colab": {}
      },
      "source": [
        "# put your answer here"
      ],
      "execution_count": 0,
      "outputs": []
    },
    {
      "cell_type": "markdown",
      "metadata": {
        "id": "aPNhY97zbmTP",
        "colab_type": "text"
      },
      "source": [
        "## 2.2 Probability of Events"
      ]
    },
    {
      "cell_type": "markdown",
      "metadata": {
        "id": "5ivvzvF8c7Lf",
        "colab_type": "text"
      },
      "source": [
        "On the last section, we learned that a **sample space** is a set containing all the possible outcomes of a random experiment and saw that the sample space of a die roll is:\n",
        "\n",
        "$\n",
        "\\Omega = \\{1,2,3,4,5,6\\}\n",
        "$\n",
        "\n",
        "Consider the event \"getting an even number when rolling a die,\" which we abbreviate by the letter \"E\". Event E corresponds to three of the outcomes we see above in the sample space $\\Omega$: 2, 4, and 6. We can also represent event E as a set:\n",
        "\n",
        "$\n",
        "E = \\{2,4,6\\}\n",
        "$\n",
        "\n",
        "In the section 1, we said we assign the probability to events, not outcomes. For our event E, we have:\n",
        "\n",
        "$\n",
        "P(E) = P(\\{2,4,6\\}) = \\displaystyle  \\frac{number \\ of \\ successful \\ outcomes}{number \\ of \\ possible \\ outcomes} = \\frac{3}{6} = 0.5 = 50\\%\n",
        "$\n",
        "\n",
        "For the following exercise, we'll consider a random experiment where we roll a fair six-sided die two times (\"fair\" means all outcomes have equal chances of occurring). The sample space of this experiment has 36 possible outcomes (all the sequences of numbers we can get from the two throws):\n",
        "\n",
        "$\n",
        "\\Omega = \\{(1,1),(1,2),(1,3),\\ldots,(3,1),(3,2),\\ldots,(6,5),(6,6)\\}\n",
        "$\n",
        "\n",
        "For each outcome, we sum up the two numbers and get the following sums:\n",
        "\n",
        "<img width=\"500\" src=\"https://drive.google.com/uc?export=view&id=1UMkI_tEeUBHoAAy_4rHiSlxEQNvO_3c1\">\n",
        "\n",
        "Let's now find the probability for a few events.\n",
        "\n",
        "**Exercise**\n",
        "\n",
        "<img width=\"100\" src=\"https://drive.google.com/uc?export=view&id=1E8tR7B9YYUXsU_rddJAyq0FrM0MSelxZ\">\n",
        "\n",
        "Use the table above to find the probability of the following events:\n",
        "\n",
        "- The sum of the two rolls is 6. Assign the probability to **p_sum_6**.\n",
        "- The sum of the two rolls is lower than 15. Assign the probability to **p_lower_15**.\n",
        "- The sum of the two rolls is greater than 13. Assign the probability to **p_greater_13**."
      ]
    },
    {
      "cell_type": "code",
      "metadata": {
        "id": "HUBjBy4Adha9",
        "colab_type": "code",
        "colab": {}
      },
      "source": [
        "# put your answer here"
      ],
      "execution_count": 0,
      "outputs": []
    },
    {
      "cell_type": "markdown",
      "metadata": {
        "id": "nj1LfSl-f3Tq",
        "colab_type": "text"
      },
      "source": [
        "## 2.3 Certain and Impossible Events"
      ]
    },
    {
      "cell_type": "markdown",
      "metadata": {
        "id": "O-4Jzv-qf5L8",
        "colab_type": "text"
      },
      "source": [
        "For the last exercise, we considered rolling a fair six-sided die two times. Below, we again see the table with the sums we'd get if we added the numbers of the two rolls together.\n",
        "\n",
        "<img width=\"500\" src=\"https://drive.google.com/uc?export=view&id=1UMkI_tEeUBHoAAy_4rHiSlxEQNvO_3c1\">\n",
        "\n",
        "The sample space of this experiment has 36 possible outcomes — all the sequences of numbers we can get from the two throws (notice we don't consider the actual sums part of the sample space):\n",
        "\n",
        "$ \\Omega = \\{(1,1),(1,2),(1,3),\\ldots,(3,1),(3,2),\\ldots,(6,5),(6,6)\\} $\n",
        "\n",
        "One event we considered was getting a sum greater than 13 (we'll denote this event by \"A\"). In the table above, we see no dice combination results in a sum greater than 12, which means event A is impossible and has no corresponding outcome in the sample space. Thus, event A corresponds to an **empty set**, which we denote by the symbol $\\emptyset$:\n",
        "\n",
        "$\n",
        "A = \\{\\} = \\emptyset\n",
        "$\n",
        "\n",
        "The probability of A, which is an impossible event, is 0:\n",
        "\n",
        "$\n",
        "P(A) = P(\\emptyset) = \\displaystyle  \\frac{number \\ of \\ successful \\ outcomes}{number \\ of \\ possible \\ outcomes} = \\frac{0}{36} = 0\n",
        "$\n",
        "\n",
        "The other event we considered in the last exercise was getting a sum lower than 15 (we'll denote this event by \"B\"). In the table above, we see all dice combinations result in a sum that is 12 or lower, which means event B is certain to happen and contains all the elements of the sample space $\\Omega$:\n",
        "\n",
        "$B = \\Omega = \\{(1,1),(1,2),(1,3),\\ldots,(3,1),(3,2),\\ldots,(6,5),(6,6)\\} $\n",
        "\n",
        "\n",
        "The probability of B, which is a certain event, is 1:\n",
        "\n",
        "$\n",
        "P(B) = P(\\Omega) = \\displaystyle  \\frac{number \\ of \\ successful \\ outcomes}{number \\ of \\ possible \\ outcomes} = \\frac{36}{36} = 1\n",
        "$\n",
        "\n",
        "From our discussion in this section, we can conclude:\n",
        "\n",
        "- The probability of an impossible event is 0: $P(\\emptyset) = 0$\n",
        "- The probability of a certain event is 1: $P(\\Omega) = 1$\n",
        "- The probability of any event ranges between 0 and 1: $0 \\leq P(Event) \\leq 1$\n",
        "\n",
        "\n",
        "<img width=\"500\" src=\"https://drive.google.com/uc?export=view&id=1mSZFo8ULfEOLz_aOLxp1wncnmu7Cf59n\">\n",
        "\n",
        "These are three important probability rules that we'll need to always keep in mind while we're solving probability problems. Let's now focus on another exercise and continue the discussion on the next section."
      ]
    },
    {
      "cell_type": "markdown",
      "metadata": {
        "id": "D4TD0DOGgsuA",
        "colab_type": "text"
      },
      "source": [
        "**Exercise**\n",
        "\n",
        "<img width=\"100\" src=\"https://drive.google.com/uc?export=view&id=1E8tR7B9YYUXsU_rddJAyq0FrM0MSelxZ\">\n",
        "\n",
        "\n",
        "Using the table above, find for the same experiment the probability of the following events:\n",
        "\n",
        "- The sum is either 2 or 4. Assign the probability as a proportion to **p_2_or_4**.\n",
        "- The sum is either 12 or 13. Assign the probability as a proportion to **p_12_or_13**."
      ]
    },
    {
      "cell_type": "code",
      "metadata": {
        "id": "09yqMpsyjwOs",
        "colab_type": "code",
        "colab": {}
      },
      "source": [
        "# put your answer here\n"
      ],
      "execution_count": 0,
      "outputs": []
    },
    {
      "cell_type": "markdown",
      "metadata": {
        "id": "jbnN5f9PmAdD",
        "colab_type": "text"
      },
      "source": [
        "## 2.4 The Addition Rule"
      ]
    },
    {
      "cell_type": "markdown",
      "metadata": {
        "id": "YBAUNisFmDkU",
        "colab_type": "text"
      },
      "source": [
        "For rolling a fair six-sided die (\"fair\" means all outcomes have equal chances of occurring), consider the following two events, A and B:\n",
        "\n",
        "- A = {3} — getting a 3\n",
        "- B = {5} — getting a 5\n",
        "\n",
        "Now, we'd like to find:\n",
        "\n",
        "- $P(A)$ — the probability of getting a 3\n",
        "- $P(B)$— the probability of getting a 5\n",
        "- $P(A \\ or \\ B)$ — the probability of getting a 3 or a 5\n",
        "\n",
        "The sample space of rolling a fair six-sided die is $\\Omega=\\{1,2,3,4,5,6\\}$, and we can use what we learned to find that:\n",
        "\n",
        "$\n",
        "P(A) = \\displaystyle \\frac{1}{6}\\\\\n",
        "P(B) = \\displaystyle \\frac{1}{6}\\\\\n",
        "P(A \\ or \\ B) = \\displaystyle \\frac{2}{6}\n",
        "$"
      ]
    },
    {
      "cell_type": "markdown",
      "metadata": {
        "id": "78nsgUCPyICX",
        "colab_type": "text"
      },
      "source": [
        "To calculate P(A or B), we can also use the formula below, which is sometimes called the **addition rule**:\n",
        "\n",
        "$\n",
        "P(A \\ or \\ B) = P(A) + P(B)\n",
        "$\n",
        "\n",
        "In our case, $P(A) = \\frac{1}{6}$, and $P(B) = \\frac{1}{6}$, so:\n",
        "\n",
        "$\n",
        "P(A \\ or \\ B) = \\displaystyle P(A) + P(B) = \\frac{1}{6} + \\frac{1}{6} = \\frac{2}{6}\n",
        "$"
      ]
    },
    {
      "cell_type": "markdown",
      "metadata": {
        "id": "sximKvcbzY7m",
        "colab_type": "text"
      },
      "source": [
        "The addition rule can be extended to more than two events:\n",
        "\n",
        "$\n",
        "P(A \\ or \\ B \\ or \\ C \\ \\ldots or \\ Z) = P(A) + P(B) + P(C) + \\ldots + P(Z)\n",
        "$\n",
        "\n",
        "Let's do a few exercises and return to the addition rule in the next section, where we'll discuss some exceptions. We'll need the table below again, which shows the sums we'd get if we added the numbers of two individual die rolls.\n",
        "\n",
        "<img width=\"500\" src=\"https://drive.google.com/uc?export=view&id=1UMkI_tEeUBHoAAy_4rHiSlxEQNvO_3c1\">\n"
      ]
    },
    {
      "cell_type": "markdown",
      "metadata": {
        "id": "wmtLVyPB7Ksh",
        "colab_type": "text"
      },
      "source": [
        "**Exercise**\n",
        "\n",
        "<img width=\"100\" src=\"https://drive.google.com/uc?export=view&id=1E8tR7B9YYUXsU_rddJAyq0FrM0MSelxZ\">\n",
        "\n",
        "Using the **addition rule**, find the probability of the following events:\n",
        "\n",
        "- The sum is either 5 or 9 — assign your answer to **p_5_or_9**.\n",
        "- The sum is either even or less than 2 — assign your answer to **p_even_or_less_2**.\n",
        "- The sum is either 4 or a multiple of 3 — assign your answer to **p_4_or_3_multiple**. \n"
      ]
    },
    {
      "cell_type": "code",
      "metadata": {
        "id": "6KQ4Uniz8Fgp",
        "colab_type": "code",
        "colab": {}
      },
      "source": [
        "# put your answer here"
      ],
      "execution_count": 0,
      "outputs": []
    },
    {
      "cell_type": "markdown",
      "metadata": {
        "id": "7Th7go5J8Ku4",
        "colab_type": "text"
      },
      "source": [
        "## 2.5 Venn Diagrams"
      ]
    },
    {
      "cell_type": "markdown",
      "metadata": {
        "id": "H_MaGsJe8tDv",
        "colab_type": "text"
      },
      "source": [
        "On the last section, we considered rolling a fair six-sided die, and found the probability of the following two events:\n",
        "\n",
        "- A = {3} — getting a 3\n",
        "- B = {5} — getting a 5\n",
        "\n",
        "In probability, we can visualize events using **Venn diagrams**. For instance, this is how we can represent event A on a Venn diagram:\n",
        "\n",
        "<img width=\"200\" src=\"https://drive.google.com/uc?export=view&id=1GCekfcXKtplITOBVbRovUAASthYTQQuH\">\n",
        "\n",
        "Notice we represented A as a green circle inside a rectangle. The rectangle describes the entire sample space — note the $\\Omega$ sign on the right corner of the rectangle.\n",
        "\n",
        "We can also add events A and B on the same Venn diagram:\n",
        "\n",
        "<img width=\"200\" src=\"https://drive.google.com/uc?export=view&id=1K6xFmqABaOncxm6xsT1Gu6kmgzuMtXTp\">\n",
        "\n",
        "Consider also the events C and D, which are:\n",
        "\n",
        "- C = {2,4,6}— getting an even number\n",
        "- D = {4,5,6}— getting a number greater than 3\n",
        "\n",
        "\n",
        "Notice that two elements, 4 and 6, belong to both C and D. To account for these two common elements, we need to represent C and D on a Venn diagram with a point of intersection:\n",
        "\n",
        "<img width=\"200\" src=\"https://drive.google.com/uc?export=view&id=18wuXLd4gH3jF-5xSPfrm6S1ifabyNIJ6\">\n",
        "\n",
        "For the exercises below, we're going to calculate the probability for:\n",
        "\n",
        "- Event C\n",
        "- Event D\n",
        "- Event C or D\n",
        "\n",
        "Assume all outcomes have equal chances of occurring.\n",
        "\n",
        "\n",
        "**Exercise**\n",
        "\n",
        "<img width=\"100\" src=\"https://drive.google.com/uc?export=view&id=1E8tR7B9YYUXsU_rddJAyq0FrM0MSelxZ\">\n",
        "\n",
        "\n",
        "- Calculate:\n",
        "  - P(C) — assign your answer to **p_c**.\n",
        "  - P(D) — assign your answer to **p_d**.\n",
        "- The event \"getting a number that is either even or greater than 3\" corresponds to the event C or D. Calculate:\n",
        "  - P(C or D) using the addition rule — assign your answer to **p_c_d_addition**.\n",
        "  - P(C or D) using the formula we've been using to compute theoretical probabilities (the number of successful outcomes divided by the number of possible outcomes) — assign your answer to **p_c_d_formula**.\n",
        "- Print **p_c_d_addition** and **p_c_d_formula**. Why do you think we see different results (we'll explain this on the next section)?"
      ]
    },
    {
      "cell_type": "code",
      "metadata": {
        "id": "SKePZu6Q9Ear",
        "colab_type": "code",
        "colab": {}
      },
      "source": [
        "# put your answer here"
      ],
      "execution_count": 0,
      "outputs": []
    },
    {
      "cell_type": "markdown",
      "metadata": {
        "id": "J7lRJGu5CkWo",
        "colab_type": "text"
      },
      "source": [
        "## 2.6. Exceptions to the Addition Rule"
      ]
    },
    {
      "cell_type": "markdown",
      "metadata": {
        "id": "7O2Ege76Cl5y",
        "colab_type": "text"
      },
      "source": [
        "In the previous exercise, we used two different ways to calculate P(C or D), and we expected both to lead to the same result. First, we used the addition rule and got $\\frac{6}{6}$:\n",
        "\n",
        "$\n",
        "P(C \\ or \\ D) = P(C) + P(D) = \\displaystyle \\frac{3}{6} + \\frac{3}{6}\n",
        "$\n",
        "\n",
        "Then, we used the theoretical probability formula and got $\\frac{4}{6}$\n",
        "\n",
        "$\n",
        "P(C \\ or \\ D) = \\displaystyle \\frac{total \\ number \\ of \\ successful \\ outcomes}{number \\ of \\ possible \\ outcomes} = \\frac{4}{6} \n",
        "$"
      ]
    },
    {
      "cell_type": "markdown",
      "metadata": {
        "id": "JZyX03FyD2A8",
        "colab_type": "text"
      },
      "source": [
        "The reason we got different results is that the addition rule doesn't work for events that share corresponding outcomes. In the case of C and D, they have two outcomes in common: 4 and 6 (remember event C is getting an even number and event D is getting a number greater than 3).\n",
        "\n",
        "To understand why the addition rule doesn't work, let's visualize events C and D on a Venn diagram again. This time, however, we're going to assume the colored areas represent probability values:\n",
        "\n",
        "<img width=\"300\" src=\"https://drive.google.com/uc?export=view&id=1B7pSEMl54uTq1qesC9SShW7TntcUaWzV\">\n",
        "\n",
        "When we do $P(C) + P(D)$ , notice we add up the intersection point (the shaded area) twice:\n",
        "\n",
        "<img width=\"300\" src=\"https://drive.google.com/uc?export=view&id=1paHPuhw8Qb-yI59_z6CbRp1a-Mrkj81x\">\n",
        "\n",
        "To solve the problem, we need to subtract the probability of the shaded area such that we add it only once:\n",
        "\n",
        "<img width=\"500\" src=\"https://drive.google.com/uc?export=view&id=1dhgt-p60LyGx2y6fxs2-pqVdgLpeUDHE\">\n",
        "\n",
        "The shaded area is the point where C **and** D intersect, which means it's the event where both C **and** D happen. This corresponds to the event \"getting a number that is both even and greater than 3,\" which has the probability:"
      ]
    },
    {
      "cell_type": "markdown",
      "metadata": {
        "id": "GqH5YEPJEmGU",
        "colab_type": "text"
      },
      "source": [
        "$\n",
        "P(C \\ and \\ D) = \\displaystyle \\frac{total \\ number \\ of \\ successful \\ outcomes}{number \\ of \\ possible \\ outcomes} = \\frac{2}{6} \n",
        "$\n",
        "\n",
        "Subtracting $P(C \\ and \\ D)$  from $P(C) + P(D)$ , we get:\n",
        "\n",
        "$\n",
        "P(C \\ or D) = P(C) + P(D) - P(C \\ and \\ D) = \\displaystyle \\frac{3}{6} + \\frac{3}{6} - \\frac{2}{6} = \\frac{4}{6}\n",
        "$\n",
        "\n"
      ]
    },
    {
      "cell_type": "markdown",
      "metadata": {
        "id": "gCnZsNq9ISVd",
        "colab_type": "text"
      },
      "source": [
        "Let's do a quick exercise and discuss more about this on the next screen.\n",
        "\n",
        "**Exercise**\n",
        "\n",
        "<img width=\"100\" src=\"https://drive.google.com/uc?export=view&id=1E8tR7B9YYUXsU_rddJAyq0FrM0MSelxZ\">\n",
        "\n",
        "- An online betting company offers customers the possibility of betting on a variety of games and events (football, tennis, hockey, horse races, car races, etc.). Based on historical data, the company knows the empirical probabilities of the following events:\n",
        "  - Event F (a new customer's first bet is on football) — the probability is 0.26.\n",
        "  - Event T (a new customer's first bet is on tennis) — the probability is 0.11.\n",
        "  - Event \"T and F\" (a new customer's first bet is on both football and tennis) — the probability is 0.03.\n",
        "- Find the probability that a new customer's first bet is either on football or tennis. Assign your answer to **p_f_or_t**. You can't use theoretical probability formula to solve this, so you'll need to make use of the addition rule."
      ]
    },
    {
      "cell_type": "code",
      "metadata": {
        "id": "jyW3aVTqJTSF",
        "colab_type": "code",
        "colab": {}
      },
      "source": [
        "# put your answer here"
      ],
      "execution_count": 0,
      "outputs": []
    },
    {
      "cell_type": "markdown",
      "metadata": {
        "id": "aLeyxawlJoFf",
        "colab_type": "text"
      },
      "source": [
        "\n",
        "## 2.7. Mutually Exclusive Events"
      ]
    },
    {
      "cell_type": "markdown",
      "metadata": {
        "id": "kCRhwYH-Jpky",
        "colab_type": "text"
      },
      "source": [
        "On the last section, we saw on our Venn diagrams we have two types of events:\n",
        "\n",
        "- Events that don't intersect at all (like A and B).\n",
        "- Events that have an area where they intersect (like C and D).\n",
        "\n",
        "<img width=\"500\" src=\"https://drive.google.com/uc?export=view&id=1DLQqkKPVCAKOcVDiDhpPcjFeOIUtvqpQ\">\n",
        "\n",
        "Events that don't intersect are called **mutually exclusive** — events A and B are mutually exclusive. If two events are mutually exclusive, it means they can't happen both at the same time — if one of the events happens, the other cannot possibly happen and vice-versa. Examples of mutually exclusive events include:\n",
        "\n",
        "- Getting a 5 (event one) and getting a 3 (event two) when we roll a regular six-sided die — it's impossible to get both a 5 and 3.\n",
        "- A coin lands on heads (event one) and tails (event two) — it's impossible for a coin to land on both heads and tails.\n",
        "\n",
        "Events that intersect are called **mutually non-exclusive** — events C and D on the Venn diagram above are mutually non-exclusive. Mutually non-exclusive events can happen at the same time, and examples include:\n",
        "- Getting a number greater than 2 (event one) and getting an odd number (event two) when we roll a regular six-sided die — we could get a 5, which is both greater than 2 (event one) and odd (event two).\n",
        "- A customer buys a red shirt (event one) and a blue shirt (event two) — the customer can buy both a red shirt (event one) and a blue shirt (event two).\n",
        "\n",
        "For mutually non-exclusive events, we always need to use the formula below to make sure we don't include the area of intersection twice in our calculations (the area of intersection corresponds to the situation where both events happen):\n",
        "\n",
        "$\n",
        "P(A \\ or B) = P(A) + P(B) - P(A \\ and \\ B)\n",
        "$\n",
        "\n",
        "The formula above, however, works for both mutually non-exclusive and exclusive events. If two events — A and B — are mutually exclusive, then the event \"A and B\" is impossible (you can't get both heads and tails at the same time, for example). If event \"A and B\" is impossible, it means $P(A \\ and B) = 0$, so:\n",
        "\n",
        "$\n",
        "P(A \\ or B) = P(A) + P(B) - P(A \\ and \\ B)\\\\\n",
        "P(A \\ or B) = P(A) + P(B) - 0\\\\\n",
        "P(A \\ or B) = P(A) + P(B)\n",
        "$\n",
        "\n",
        "Let's now direct our attention to an exercise where we'll again consider the example with the betting company (please take a few seconds to recap the last exercise if you don't remember the example)."
      ]
    },
    {
      "cell_type": "markdown",
      "metadata": {
        "id": "mWcpfIrqKJ5w",
        "colab_type": "text"
      },
      "source": [
        "**Exercise**\n",
        "\n",
        "<img width=\"100\" src=\"https://drive.google.com/uc?export=view&id=1E8tR7B9YYUXsU_rddJAyq0FrM0MSelxZ\">\n",
        "\n",
        "- Based on historical data, the company knows the empirical probabilities of the following events:\n",
        "  - Event H (a new customer's first bet is on hockey) — the probability is 0.08.\n",
        "  - Event C (a new customer's first bet is on car races) — the probability is 0.11.\n",
        "  - Event \"H or C\" (a new customer's first bet is on both hockey or car races) — the probability is 0.17.\n",
        "- Find the probability that a new customer's first bet is on both hockey and car races. Assign your answer to **p_h_and_c**. Check the hint if you get stuck."
      ]
    },
    {
      "cell_type": "code",
      "metadata": {
        "id": "BWXcIvYSMkWY",
        "colab_type": "code",
        "colab": {}
      },
      "source": [
        "# put your answer here"
      ],
      "execution_count": 0,
      "outputs": []
    },
    {
      "cell_type": "markdown",
      "metadata": {
        "id": "_o2vzvj5M3B3",
        "colab_type": "text"
      },
      "source": [
        "## 2.8 Set Notation"
      ]
    },
    {
      "cell_type": "markdown",
      "metadata": {
        "id": "8c9WkAfKM46d",
        "colab_type": "text"
      },
      "source": [
        "Over the last two sections, we considered events like \"A or B\" and \"A and B,\" and when we calculated probabilities, we wrote $P(A \\ or \\ B)$  and $P(A \\ and \\ B)$. Taken individually, event A and event B are sets containing a series of outcomes, and we need to introduce some notation around \"or\" and \"and\" when dealing with sets.\n",
        "\n",
        "Consider the following sets:\n",
        "\n",
        "- A = {1,2,6}\n",
        "- B = {1,4,5,6}\n",
        "- C = {HH,HT,TH}\n",
        "- D = {Green, Yellow, Brown}\n",
        "\n",
        "In set theory, when we say \"set A **or** set B,\" we are referring to a single set that is the result of the **union** between set A and set B. The resulting set will have:\n",
        "\n",
        "- The elements of set A that are not in B\n",
        "- The elements of set B that are not in A\n",
        "- The elements that occur in both A and B\n",
        "\n",
        "A set can only contain unique elements, so the set resulting from a union cannot include the elements that occur in both A and B more than one time. Below, we see the result of a few unions between the four sets above (A, B, C, and D) — in set theory, we use the symbol $\\cup$  to represent union:\n",
        "\n",
        "$\n",
        "A \\cup B = \\{1,2,4,5,6\\}\\\\\n",
        "A \\cup D = \\{1,2,6,Green,Yellow,Brown\\}\\\\\n",
        "B \\cup C = \\{1,2,6,HH,HT,TH\\}\n",
        "$"
      ]
    },
    {
      "cell_type": "markdown",
      "metadata": {
        "id": "jDLz9jXoSjeg",
        "colab_type": "text"
      },
      "source": [
        "When we say \"set A **and** set B,\" we are referring to a single set that contains all the unique elements that occur in both A **and** B. In set theory, this **\"and\"** operation is called **intersection** and is represented by the symbol $\\cap$. Below, we see the results of the intersection of the various sets above (remember $\\emptyset$ means an empty set):\n",
        "\n",
        "$\n",
        "A \\cap B = \\{1,6\\}\\\\\n",
        "A \\cap C = \\emptyset\\\\\n",
        "B \\cap C = \\emptyset\n",
        "$\n",
        "\n",
        "Set notation carries over in probability, so:\n",
        "\n",
        "$\n",
        "P(A \\ or \\ B) \\ becomes \\  P(A \\cup B)\\\\\n",
        "P(A \\ and \\ B) \\ becomes\\  P(A \\cap B)\n",
        "$\n",
        "\n",
        "We can use set notation to rewrite the addition rule we already learned (this is the way you usually encounter the addition rule in many probability resources):\n",
        "\n",
        "$\n",
        "P(A \\cup B) = P(A) + P(B) - P(A \\cap B)\n",
        "$"
      ]
    },
    {
      "cell_type": "markdown",
      "metadata": {
        "id": "bXGzo9eVTv7l",
        "colab_type": "text"
      },
      "source": [
        "Moving forward, we're going to use set notation in this course. Set notation is not particularly helpful in practice, but this is the standard notation in the probability literature — we chose to teach it so you don't feel lost when you consult other probability resources (for instance, see this [Wikipedia article](https://en.wikipedia.org/wiki/Probability_axioms), where set notation is used pervasively). Set theory, however, is very useful to prove many probability theorems.\n",
        "\n",
        "Now let's do a couple of exercises and wrap up this mission in the next section."
      ]
    },
    {
      "cell_type": "markdown",
      "metadata": {
        "id": "32ozIvYxWBhr",
        "colab_type": "text"
      },
      "source": [
        "**Exercise**\n",
        "\n",
        "<img width=\"100\" src=\"https://drive.google.com/uc?export=view&id=1E8tR7B9YYUXsU_rddJAyq0FrM0MSelxZ\">\n",
        "\n",
        "Consider the following sets:\n",
        "\n",
        "- M = {100,22,1,2}\n",
        "- N = {22, car insurance, 2, house insurance}\n",
        "- O = {HHHH,TTTT,TH}\n",
        "- P = {Hockey, Cycling, Athletics, Swimming}\n",
        "\n",
        "Consider the following set operations and their results:\n",
        "\n",
        "- $M \\cup P = \\emptyset$: If you think the result is correct, assign the boolean **True** to a variable named **operation_1**, otherwise assign **False**.\n",
        "- $N \\cap M = \\{22,2\\}$: If you think the result is correct, assign the boolean **True** to a variable named **operation_2**, otherwise assign **False**.\n",
        "- $O \\cup M = \\{HHHH,TTTT,100,22,2\\}$: If you think the result is correct, assign the boolean **True** to a variable named **operation_3**, otherwise assign **False**.\n",
        "- $P \\cap N = \\emptyset$: If you think the result is correct, assign the boolean **True** to a variable named **operation_4**, otherwise assign **False**."
      ]
    },
    {
      "cell_type": "markdown",
      "metadata": {
        "id": "3SxPW4OMXVYs",
        "colab_type": "text"
      },
      "source": [
        "## 2.9 Next Steps\n",
        "\n"
      ]
    },
    {
      "cell_type": "markdown",
      "metadata": {
        "id": "m3aEkzqxXuNW",
        "colab_type": "text"
      },
      "source": [
        "In this mission, we learned a few important things:\n",
        "\n",
        "- The addition rule for mutually exclusive and non-exclusive events.\n",
        "- How to represent events and sample space on Venn diagrams.\n",
        "- How to use set notation in probability.\n"
      ]
    }
  ]
}