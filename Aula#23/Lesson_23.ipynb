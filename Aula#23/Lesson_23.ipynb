{
  "nbformat": 4,
  "nbformat_minor": 0,
  "metadata": {
    "colab": {
      "name": "Lesson 23.ipynb",
      "version": "0.3.2",
      "provenance": []
    },
    "kernelspec": {
      "name": "python3",
      "display_name": "Python 3"
    }
  },
  "cells": [
    {
      "cell_type": "markdown",
      "metadata": {
        "id": "WHbgeQ4Ait1a",
        "colab_type": "text"
      },
      "source": [
        "# 1 - Solving Complex Probability Problems"
      ]
    },
    {
      "cell_type": "markdown",
      "metadata": {
        "id": "8mvnX9uci7MK",
        "colab_type": "text"
      },
      "source": [
        "## 1.1 Complex Probability Problems"
      ]
    },
    {
      "cell_type": "markdown",
      "metadata": {
        "id": "1r_nJLxBi92l",
        "colab_type": "text"
      },
      "source": [
        "With the concepts and techniques we've learned so far, we're now able to calculate empirical and theoretical probabilities for many kinds of events associated with any random experiment. There are, however, a few probability problems we cannot yet properly tackle using what we've learned:\n",
        "\n",
        "- What is the probability that it takes three flips or more for a coin to land heads up?\n",
        "- What is the probability of a coin landing heads up 18 times in a row?\n",
        "- What is the probability of getting at least one 6 in four throws of a single six-sided die?\n",
        "- What is the probability of getting at least one double-six in 24 throws of two six-sided dice?\n",
        "- What is the probability of getting four aces in a row when drawing cards from a standard 52-card deck?\n",
        "\n",
        "In this lesson, we're going to develop new techniques that will help us answer all five questions — and many others.\n",
        "\n",
        "For now, let's solve a few probability problems as a quick warm-up for the next section. For the exercises below, you'll need to use the **addition rule**:\n",
        "\n",
        "$\n",
        "P(A\\cup B) = P(A) + P(B) - P(A \\cap B)\n",
        "$\n",
        "\n",
        "We'll also need this formula to compute **empirical probabilities**:\n",
        "\n",
        "$\n",
        "P(E) = \\displaystyle \\frac{number \\ of \\ times \\ event \\ E \\ happenned}{numer \\ of \\ times \\ we \\ repeated \\ the \\ experiment}\n",
        "$\n",
        "\n",
        "**Exercise**\n",
        "\n",
        "<img width=\"100\" src=\"https://drive.google.com/uc?export=view&id=1E8tR7B9YYUXsU_rddJAyq0FrM0MSelxZ\">\n",
        "\n",
        "**Description**:\n",
        "\n",
        "- An advertisement company runs a quick test and shows two ads on the same web page (ad \"A\" and ad \"B\") to 100 users. At the end of the trial, they found:\n",
        "  - 12 users clicked on ad \"A\"\n",
        "  - 17 users clicked on ad \"B\"\n",
        "  - 3 users clicked on both ad \"A\" and ad \"B\"\n",
        "- Find:\n",
        "  - The empirical probability that a user clicks on ad \"A.\" Assign your result to **p_a**.\n",
        "  - The empirical probability that a user clicks on ad \"B.\" Assign your result to **p_b**.\n",
        "  - The empirical probability that a user clicks on both ad \"A\" and ad \"B.\" Assign your result to **p_a_and_b**.\n",
        "  - The probability that a user clicks on either ad \"A\" or ad \"B.\" Assign your result to **p_a_or_b**. For this exercise, keep in mind a user can click on both ads, so the events are not mutually exclusive — use the addition rule.\n"
      ]
    },
    {
      "cell_type": "code",
      "metadata": {
        "id": "RuSap4H-kJyT",
        "colab_type": "code",
        "colab": {}
      },
      "source": [
        "# put your answer here"
      ],
      "execution_count": 0,
      "outputs": []
    },
    {
      "cell_type": "markdown",
      "metadata": {
        "id": "i7KoWqyMlbZw",
        "colab_type": "text"
      },
      "source": [
        "## 1.2 Opposite Events"
      ]
    },
    {
      "cell_type": "markdown",
      "metadata": {
        "id": "-qnpTdOYldJM",
        "colab_type": "text"
      },
      "source": [
        "In the previous lesson, we learned the probability of any event ranges between 0 and 1: $0 \\leq P(event) \\leq 1$ .\n",
        "\n",
        "<img width=\"500\" src=\"https://drive.google.com/uc?export=view&id=15s0MXUJlZcDc9Kb8L24OYejEwJnilv98\">\n",
        "\n",
        "We also saw the probability of an event that contains all the outcomes of the sample space is 1: $P(\\Omega) = 1$. For instance, getting a number less than 7 when rolling a six-sided die (we'll call this event \"A\") corresponds to all the outcomes in the sample space, so:\n",
        "\n",
        "$\n",
        "A = \\{1,2,3,4,5,6\\}\\\\\n",
        "\\Omega = \\{1,2,3,4,5,6\\}\\\\\n",
        "P(A) = \\displaystyle \\frac{number \\ of \\ sucessfull \\ outcomes}{total \\ number \\ of \\ possible \\ outcomes} = \\frac{6}{6} = 1 = P(\\Omega)\n",
        "$\n",
        "\n",
        "Now consider the two events below, which we're going to call \"B\" and \"non-B\":\n",
        "\n",
        "- Getting a 2 when rolling a fair six-sided die (event B)\n",
        "- Not getting a 2 when rolling a fair six-sided die (event non-B)\n",
        "\n",
        "Events B and non-B correspond to the following outcomes:\n",
        "\n",
        "$\n",
        "B = \\{2\\}\\\\\n",
        "non\\textrm{-}B = \\{1,3,4,5,6\\}\n",
        "$\n",
        "\n",
        "When we throw the die, it's certain we'll get either a 2 (B) or other number (non-B). This means the event \"B or non-B\" ($B \\cup non\\textrm{-}B$) is certain, and it has a probability of 1.\n",
        "\n",
        "Below, we use the addition rule to calculate  (using set notation, remember we write \"B **or** non-B\" as $B \\cup non\\textrm{-}B$; B and non-B are also mutually exclusive events, which means they can't happen simultaneously — we can't get both a 2 and another number when we roll the die):\n",
        "\n",
        "$\n",
        "P(B \\cup non\\textrm{-}B) = P(B) + P(non\\textrm{-}B) = \\displaystyle \\frac{1}{6} + \\frac{5}{6} = 1\n",
        "$\n",
        "\n",
        "More generally, for any random experiment either event \"E\" or \"non-E\" will happen, so the event \"E or non-E\" is certain and has a probability of 1:\n",
        "\n",
        "$\n",
        "P(E \\cup non\\textrm{-}E) = P(E) + P(non\\textrm{-}E) = 1\n",
        "$\n",
        "\n",
        "Using a little algebra, we arrive at the following formula:\n",
        "\n",
        "$\n",
        "P(E) = 1 -  P(non\\textrm{-}E) \n",
        "$\n",
        "\n",
        "On the next section, we'll explain in detail how the formula above helps us answer the first of the five questions we posed in the introduction: what is the probability that it takes three flips or more for a coin to land heads up? We'll now stop for a few exercises.\n",
        "\n",
        "**Exercise**\n",
        "\n",
        "<img width=\"100\" src=\"https://drive.google.com/uc?export=view&id=1E8tR7B9YYUXsU_rddJAyq0FrM0MSelxZ\">\n",
        "\n",
        "**Description**:\n",
        "\n",
        "- A company that develops a time-tracking tool sells two kinds of subscription: **basic** and **premium**. When a new user tries the product, there's a 0.2 probability the user buys the **basic** subscription and 0.15 he buys **premium**. Find:\n",
        "  - The probability that a new user doesn't buy a basic subscription. Assign your result to **p_non_basic**.\n",
        "  - The probability that a new user doesn't buy a premium subscription. Assign your result to **p_non_premium**.\n",
        "  - The probability that a user buys either basic or premium. Assign your result to **p_subscription** (assume buying basic and buying premium are mutually exclusive).\n",
        "  - The probability that a new user doesn't buy a subscription. Assign your result to **p_non_subscription**."
      ]
    },
    {
      "cell_type": "code",
      "metadata": {
        "id": "QcjnNm0wnEL-",
        "colab_type": "code",
        "colab": {}
      },
      "source": [
        "# put your answer here"
      ],
      "execution_count": 0,
      "outputs": []
    },
    {
      "cell_type": "markdown",
      "metadata": {
        "id": "KVRZ2uRqqvlv",
        "colab_type": "text"
      },
      "source": [
        "## 1.3 Example Walk-Through"
      ]
    },
    {
      "cell_type": "markdown",
      "metadata": {
        "id": "besG8N-xqwqj",
        "colab_type": "text"
      },
      "source": [
        "We'll now build on what we learned in the previous section and find the probability that it takes three flips or more for a coin to land heads up — we're going to call this event \"A.\"\n",
        "\n",
        "Event A (it takes three flips or more for a coin to land hands up) corresponds to the following outcomes, where each number represents the number of flips it takes until we first get heads up (number three, for example, says \"the coin first landed heads up on the third flip\"):\n",
        "\n",
        "$\n",
        "A = \\{3,4,5,6,\\ldots,100,101,\\ldots\\}\n",
        "$\n",
        "\n",
        "Notice event A contains an infinite number of outcomes. When we flip the coin, we could get heads up on the first flip, or the second, or the third, the fourth, the fifth and so forth — in principle, we could never get heads up.\n",
        "\n",
        "The opposite of event A (it takes less than three flips for the coin to land heads up), which we'll call \"non-A\", has only two outcomes :\n",
        "\n",
        "$\n",
        "non\\textrm{-}A = \\{1,2\\}\n",
        "$\n",
        "\n",
        "In this random experiment, either A or non-A will happen, so:\n",
        "\n",
        "$\n",
        "P(A \\cup non\\textrm{-}A) = P(A) + P(non\\textrm{-}A) = 1\n",
        "$\n",
        "\n",
        "We're interested in finding P(A), which is:\n",
        "\n",
        "$\n",
        "P(A) = 1 - P(non\\textrm{-}A)\n",
        "$\n",
        "\n",
        "We can find P(A) indirectly by first finding P(non-A), and then substituting in the equation above. Finding P(non-A) is equivalent to finding the probability that a coin flipped twice lands heads up at least once. If we flip a coin twice, these are all the outcomes we can get (where \"H\" stands for heads, \"T\" for tails, and \"HT\" means \"heads on the first flip, and tails on the second one\"):\n",
        "\n",
        "<img width=\"500\" src=\"https://drive.google.com/uc?export=view&id=1r7ZQIA7mHwdfK50ZhxHe3erJgZRbcOSC\">\n",
        "\n",
        "Only the outcomes $\\{HH,HT,TH,TT\\}$  are successful with respect to the event non-A (the coin lands heads up at least once in two flips). There are four possible outcomes, which means:\n",
        "\n",
        "$\n",
        "P(non\\textrm{-}A) = \\displaystyle \\frac{number \\ of \\ sucessful \\ outcomes}{total \\ number \\ of \\ possible \\ outcomes} = \\frac{3}{4} = 0.75\n",
        "$\n",
        "\n",
        "\n",
        "Now that we know P(non-A), we can find P(A), the probability that it takes three flips or more for a coin to land heads up:\n",
        "\n",
        "$\n",
        "P(A) = 1 - P(non\\textrm{-}A)\\\\\n",
        "P(A) = 1 - 0.75 = 0.25\n",
        "$\n",
        "\n",
        "Let's now do a similar exercise to solidify our knowledge.\n",
        "\n",
        "\n",
        "**Exercise**\n",
        "\n",
        "<img width=\"100\" src=\"https://drive.google.com/uc?export=view&id=1E8tR7B9YYUXsU_rddJAyq0FrM0MSelxZ\">\n",
        "\n",
        "**Description**:\n",
        "\n",
        "Find the probability that it takes **four flips or more** for a coin to land heads up (let's call this event \"B\").\n",
        "  - Begin with finding the probability of the event non-B, which is equivalent to finding the probability that we'll get at least one heads if we flip a coin three times. Assign your result to **p_non_b**.\n",
        "  - Now use **p_non_b** to find the probability of B. Assign your result to **p_b**.\n",
        "  \n"
      ]
    },
    {
      "cell_type": "code",
      "metadata": {
        "id": "-_Ae71-us5U5",
        "colab_type": "code",
        "colab": {}
      },
      "source": [
        "# put your answer here"
      ],
      "execution_count": 0,
      "outputs": []
    },
    {
      "cell_type": "markdown",
      "metadata": {
        "id": "Ppvrjp9nyA_x",
        "colab_type": "text"
      },
      "source": [
        "## 1.4 Set Complements"
      ]
    },
    {
      "cell_type": "markdown",
      "metadata": {
        "id": "g5mpP3lhyB82",
        "colab_type": "text"
      },
      "source": [
        "On this section, we introduce some set notation — otherwise things may get confusing when you read other resources on probability. In the previous two sections, we saw:\n",
        "\n",
        "$\n",
        "P(E \\cup non\\textrm{-}E) = P(E) + P(non\\textrm{-}E) = 1\n",
        "$\n",
        "\n",
        "Consider the event \"getting a 2 when rolling a fair six-sided die,\" which we'll call \"B.\" Event B corresponds to the set $B=\\{2\\}$, and it can be represented on a Venn diagram like this:\n",
        "\n",
        "\n",
        "<img width=\"150\" src=\"https://drive.google.com/uc?export=view&id=1ULHtOoR6EGweCcs1w9kAPRjBTRBaP1i5\">\n",
        "\n",
        "The event non-B is the opposite of B, and it corresponds to $non\\textrm{-}B=\\{1,3,4,5,6\\}$ . In set theory, the opposite of a set is called its **complement**. For instance, the opposite of set $B$  is $B^C$ , where the \"C\" in the superscript stands for \"complement.\"\n",
        "\n",
        "$\n",
        "B = \\{2\\}\\\\\n",
        "B^C = \\{1,3,4,5,6\\}\n",
        "$\n",
        "\n",
        "This is how we can visualize $B^C$  on a Venn diagram ($B^C$ is the area colored green):\n",
        "\n",
        "\n",
        "<img width=\"150\" src=\"https://drive.google.com/uc?export=view&id=1i9Xqm8JqWki-RRoysqdB0z1Gog-R2R9_\">\n",
        "\n",
        "\n",
        "We can now rewrite the first equation of this screen using set notation:\n",
        "\n",
        "\n",
        "$\n",
        "P(E \\cup E^C) = P(E) + P(E^C) = 1\n",
        "$\n",
        "\n",
        "While this is mere notation, this is what you'll encounter in most probability resources — learning it will help you navigate other resources easier. We'll now do a quick exercise and begin to tackle the next question on the following screen: what is the probability of a coin landing heads up 18 times in a row?\n",
        "\n",
        "**Exercise**\n",
        "\n",
        "<img width=\"100\" src=\"https://drive.google.com/uc?export=view&id=1E8tR7B9YYUXsU_rddJAyq0FrM0MSelxZ\">\n",
        "\n",
        "**Description**:\n",
        "\n",
        "- An advertisement company monitors the activity for a specific ad and shows it repeatedly to the same users (so a single user sees the ad multiple times). Regardless of the number of times the ad is shown to a user, the probability that the user clicks on the ad is 0.5. Find:\n",
        "  - The probability that a user doesn't click on the ad. Assign your answer to **p_non_click**.\n",
        "  - The probability that it takes two times or less for an user to click on the ad. Assign your answer to **p_two_or_less**.\n",
        "  - The probability that it takes three times or more for an user to click on the ad. Assign your answer to **p_three_or_more**.\n"
      ]
    },
    {
      "cell_type": "code",
      "metadata": {
        "id": "y5R8jv-M0EVn",
        "colab_type": "code",
        "colab": {}
      },
      "source": [
        "# put your answer here"
      ],
      "execution_count": 0,
      "outputs": []
    },
    {
      "cell_type": "markdown",
      "metadata": {
        "id": "Y1L_1k1RG-fK",
        "colab_type": "text"
      },
      "source": [
        "## 1.5 The Multiplication Rule"
      ]
    },
    {
      "cell_type": "markdown",
      "metadata": {
        "id": "MBHQ7Rg3G_W5",
        "colab_type": "text"
      },
      "source": [
        "Over the next two sections, we're going to learn a new technique that will allow us to find the probability of a coin landing heads up 18 times in a row. We begin by finding the probability of a coin landing heads up two times in a row.\n",
        "\n",
        "If we flip a coin twice, these are all the outcomes we can get (\"H\" stands for heads, \"T\" for tails, and \"HT\" means \"heads on the first flip, and tails on the second flip\"): HH, HT, TH and TT.\n",
        "\n",
        "<img width=\"500\" src=\"https://drive.google.com/uc?export=view&id=1X3NvrWteN1GHS9KMtC4dR3zD49xkNdMg\">\n",
        "\n",
        "\n",
        "From all the possible outcomes, only one outcome (HH) is successful with respect to the event where the coin lands heads up two times in a row. We'll abbreviate this event \"HH\", so:\n",
        "\n",
        "$\n",
        "P(HH) = \\displaystyle \\frac{1}{4} = 0.25\n",
        "$\n",
        "\n",
        "This approach works fine when we're dealing with only two flips, but things become much more complicated for 18 flips. For two flips, we have four possible outcomes (HH, HT, TH, and TT), but for 18 flips we have 262,144 possible outcomes. Let's now look at a different approach of finding P(HH).\n",
        "\n",
        "Finding P(HH) means finding the probability that the coin lands heads up on the first flip (we'll call this event $H_1$ ), **and** the coin lands heads up on the second flip (we'll call this event $H_2$ ). So we want to find $P(H_1 and H_2)$, or, using set notation, $P(H_1 \\cap H_2)$.\n",
        "\n",
        "To find $P(H_1 \\cap H_2)$, we can use a new rule called the **multiplication rule of probability** and multiply  $P(H_1)$ by $P(H_2)$ :\n",
        "\n",
        "\n",
        "$\n",
        "P(H_1 \\cap H_2) = P(H_1) \\times P(H_2)\n",
        "$\n",
        "\n",
        "Assuming the coin is fair, $P(H_1) = 0.5$ and $P(H_2)=0.5$, so:\n",
        "\n",
        "\n",
        "$\n",
        "P(H_1 \\cap H_2) = 0.5 \\times 0.5 = 0.25\n",
        "$\n",
        "\n",
        "\n",
        "This is the same result we got from our previous approach. In more general terms, the multiplication rule says that for two events $E_1$ and $E_2$, the probability that both event  $E_1$ **and** $E_2$  happen can be found by multiplying the probability of $E_1$ by the probability of  $E_2$:\n",
        "\n",
        "$\n",
        "P(E_1 \\cap E_2) = P(E_1) \\times P(E_2)\n",
        "$\n",
        "\n",
        "We'll continue the discussion in the next section, where we'll also see the multiplication rule is a bit more nuanced. We'll also use the multiplication rule to find the probability of a coin landing heads up 18 times in a row.\n",
        "\n",
        "**Exercise**\n",
        "\n",
        "<img width=\"100\" src=\"https://drive.google.com/uc?export=view&id=1E8tR7B9YYUXsU_rddJAyq0FrM0MSelxZ\">\n",
        "\n",
        "**Description**:\n",
        "\n",
        "- For rolling a fair six-sided die, find:\n",
        "  - The probability of getting a 6 two times in a row. Assign your result to **p_6_6**.\n",
        "  - The probability of getting a 3 on the first throw and a 2 on the second throw. Assign your result to **p_3_2**.\n",
        "  - The probability of getting an even number on both throws. Assign your result to **p_even_even**.\n",
        "  - The probability of getting a 1 on the first throw and an even number on the second throw. Assign your result to **p_1_even**.\n",
        "\n",
        "\n"
      ]
    },
    {
      "cell_type": "code",
      "metadata": {
        "id": "SW7CSTbYHLAR",
        "colab_type": "code",
        "colab": {}
      },
      "source": [
        "# put your answer here"
      ],
      "execution_count": 0,
      "outputs": []
    },
    {
      "cell_type": "markdown",
      "metadata": {
        "id": "1VQvlDrYK3AS",
        "colab_type": "text"
      },
      "source": [
        "## 1.6 Independent Events"
      ]
    },
    {
      "cell_type": "markdown",
      "metadata": {
        "id": "Yi91Quu4K4mN",
        "colab_type": "text"
      },
      "source": [
        "On the previous section, we learned to use the multiplication rule to find $P(E_1 \\cap E_2)$:\n",
        "\n",
        "$\n",
        "P(E_1 \\cap E_2) = P(E_1) \\times P(E_2)\n",
        "$\n",
        "\n",
        "The multiplication rule, however, is a bit more nuanced, and it doesn't work for all kinds of events — at least not in this form. Consider the following two events, which are associated with flipping a fair coin:\n",
        "\n",
        "- $H_1$: the coin lands heads up on the first flip\n",
        "- $H_2$: the coin lands heads up on the second flip\n",
        "\n",
        "Taken individually,  $P(H_1)=0.5$ and $P(H_2)=0.5$. If event $H_1$ happens (the coin lands heads up),  $P(H_2)$ keeps the same value (0.5) — the fact the we get heads up on the first flip doesn't influence in any way the probability of getting heads up on the second flip.\n",
        "\n",
        "Events that don't influence each other's probability are called **independent events**. If  $H_1$ happens, $P(H_2)$ stays the same, so $H_1$ and $H_2$  are independent. The multiplication rule we learned only works for independent events.\n",
        "\n",
        "Consider now the following two events, which are associated with rolling a fair six-sided die:\n",
        "\n",
        "- A: we get a number less than 4; event A corresponds to the outcomes {1, 2, 3}\n",
        "- B: we get an even number; event B corresponds to the outcomes {2, 4, 6}\n",
        "\n",
        "\n",
        "Taken individually, $P(A)=\\frac{3}{6}$ and $P(B)=\\frac{3}{6}$. However, if event A happens, then we know for sure the outcome is some number from the set associated with A: {1, 2, 3}. If we know that, then the probability of B changes to $P(B)=\\frac{1}{3}$ since there's only one outcome in {1, 2, 3} that also corresponds to B (only the number 2 is even in {1, 2, 3}). Events A and B influence each other's probability, so they are not independent.\n",
        "\n",
        "The multiplication rule we learned doesn't work for events that are not independent. In a future course, we'll learn conditional probability and introduce a revised multiplication rule which also work for non-independent events. We'll also get a chance to derive the multiplication rule and understand why it works.\n",
        "\n",
        "So far, we've used the multiplication rule to calculate the probability of two independent events. The rule, however, works for any number of events — what we need to do is multiply together the probability of all the events:\n",
        "\n",
        "$\n",
        "P(E_1 \\cap E_2 \\cap E_3 \\ldots E_n) = P(E_1) \\times P(E_2) \\times P(E_3) \\times \\ldots P(E_n)\n",
        "$\n",
        "\n",
        "For instance, this is how we find the probability that a coin lands heads up four times in a row:\n",
        "\n",
        "$\n",
        "P(H_1 \\cap H_2 \\cap H_3 \\cap H_4) = H_1 \\times H_2 \\times H_3 \\times H_4\\\\\n",
        "P(H_1 \\cap H_2 \\cap H_3 \\cap H_4)  = 0.5 \\times 0.5 \\times 0.5 \\times 0.5 = 0.5^4 = 0.0625\n",
        "$\n",
        "\n",
        "Let's now answer our initial question and a few other that can be solved in the same way.\n",
        "\n",
        "**Exercise**\n",
        "\n",
        "<img width=\"100\" src=\"https://drive.google.com/uc?export=view&id=1E8tR7B9YYUXsU_rddJAyq0FrM0MSelxZ\">\n",
        "\n",
        "**Description**:\n",
        "\n",
        "- Find the probability of:\n",
        "  - Getting heads up 18 times in a row when flipping a fair coin. Assign your answer to **p_18h**.\n",
        "  - Getting a six three times in a row when throwing a fair six-sided die. Assign your answer to **p_666**.\n",
        "  - Not getting any six when throwing a fair six-sided die four times. Assign your answer to **p_not_6**.\n"
      ]
    },
    {
      "cell_type": "code",
      "metadata": {
        "id": "Bq_OAYOSOUOh",
        "colab_type": "code",
        "colab": {}
      },
      "source": [
        "# put your answer here"
      ],
      "execution_count": 0,
      "outputs": []
    },
    {
      "cell_type": "markdown",
      "metadata": {
        "id": "S4gyPcs4Sdfa",
        "colab_type": "text"
      },
      "source": [
        "## 1.7 Combining Formulas"
      ]
    },
    {
      "cell_type": "markdown",
      "metadata": {
        "id": "uyhc9jleSe-2",
        "colab_type": "text"
      },
      "source": [
        "Previously in this lesson, we learned that:\n",
        "\n",
        "$\n",
        "P(E) = 1 - P(E^C)\n",
        "$\n",
        "\n",
        "We also learned to use the multiplication rule for any number of independent events:\n",
        "\n",
        "$\n",
        "P(E_1 \\cap E_2 \\cap E_3 \\ldots E_n) = P(E_1) \\times P(E_2) \\times P(E_3) \\times \\ldots P(E_n)\n",
        "$\n",
        "\n",
        "We can combine these two rules to solve two of the probability problems we posed in the beginning:\n",
        "\n",
        "- What is the probability of getting at least one 6 in four throws of a single six-sided die?\n",
        "- What is the probability of getting at least one double-six in 24 throws of two six-sided dice?\n",
        "\n",
        "Let's begin with the first question and use \"A\" to refer to the event \"getting at least one 6 in four throws of a single six-sided die\". To find P(A), we can use the formula:\n",
        "\n",
        "$\n",
        "P(A) = 1 - P(A^C)\n",
        "$\n",
        "\n",
        "Since event $A$ is getting at least one 6 in four throws, event $A^C$ is not getting any 6 in four throws. So event $A^C$ is equivalent to getting any of the outcomes {1, 2, 3, 4, 5} four times in a row. For a single throw, the probability of getting any of the outcomes {1, 2, 3, 4, 5} is $\\frac{5}{6}$. Using the multiplication rule, the probability for four throws, is:\n",
        "\n",
        "$\n",
        "P(A^C) = \\displaystyle \\left(\\frac{5}{6}\\right)^4 = 0.4823\n",
        "$\n",
        "\n",
        "Now that we know $P(A^C)$, we can find $P(A)$, which is the probability of getting at least one 6 in four throws:\n",
        "\n",
        "$\n",
        "P(A) = \\displaystyle 1 - \\left(\\frac{5}{6}\\right)^4 = 0.5177\n",
        "$\n",
        "\n",
        "The second question is left as an exercise. On the next section, we're going to answer our last question and find the probability of getting four aces in a row when drawing cards from a standard 52-card deck — we'll see this problem is a bit tricky.\n",
        "\n",
        "**Exercise**\n",
        "\n",
        "<img width=\"100\" src=\"https://drive.google.com/uc?export=view&id=1E8tR7B9YYUXsU_rddJAyq0FrM0MSelxZ\">\n",
        "\n",
        "\n",
        "- Find the probability of getting at least one double-six in 24 throws of two six-sided dice. Assign your answer to **p_one_double_6**. The table below shows all the outcomes of throwing two six-sided dice.\n",
        "\n",
        "<img width=\"500\" src=\"https://drive.google.com/uc?export=view&id=1vGspAeqRHC8nH_N5nGoU_z7lyL8GLsyk\">"
      ]
    },
    {
      "cell_type": "code",
      "metadata": {
        "id": "CNyZzuGwSm2C",
        "colab_type": "code",
        "colab": {}
      },
      "source": [
        "# put your answer here"
      ],
      "execution_count": 0,
      "outputs": []
    },
    {
      "cell_type": "markdown",
      "metadata": {
        "id": "jRPS0FzxzXn-",
        "colab_type": "text"
      },
      "source": [
        "## 1.8 Sampling With(out) Replacement"
      ]
    },
    {
      "cell_type": "markdown",
      "metadata": {
        "id": "wzVoskyVza4L",
        "colab_type": "text"
      },
      "source": [
        "On this section, we're going to find the probability of getting four aces in a row when drawing cards from a [standard 52-card deck](https://en.wikipedia.org/wiki/Standard_52-card_deck). The deck has four aces and a total of 52 cards.\n",
        "\n",
        "Since there are four aces and 52 cards, the probability of drawing an ace if we draw a card is:\n",
        "\n",
        "$\n",
        "P(ace) = \\displaystyle \\frac{4}{52}\n",
        "$\n",
        "\n",
        "You might think that in order to find the probability of drawing four aces in a row (we'll call this event \"AAAA\"), all we need to do is multiply P(Ace) by itself four times:\n",
        "\n",
        "$\n",
        "P(AAAA) = \\displaystyle \\left(\\frac{4}{52}\\right)^4 = 0.000035\n",
        "$\n",
        "\n",
        "However, whether multiplying P(Ace) by itself four times is correct or not depends on an important detail: whether we put the cards we draw back in the deck. Let's first consider the case where we draw cards from the deck, but we don't put them back.\n",
        "\n",
        "As we saw before, for the first draw, $P(ace) = \\frac{4}{52}$. Let's say we draw a card, which is an ace of diamonds, and don't put the card back in the deck. Because we don't put the ace of diamonds back, we now have a deck of 51 cards, where only three cards are aces.\n",
        "\n",
        "With 51 cards and three aces, the probability of getting an ace for the second draw is:\n",
        "\n",
        "$\n",
        "P(ace) = \\displaystyle \\frac{3}{51}\n",
        "$\n",
        "\n",
        "To find the probability of getting four aces in a row, we need to take into account at each step that the card is not put back in the deck:\n",
        "\n",
        "$\n",
        "P(AAAA) = \\displaystyle \\frac{4}{52} \\times \\frac{3}{51} \\times \\frac{2}{50} \\ \\times \\frac{1}{49} = 0.00000369\n",
        "$\n",
        "\n",
        "If we do put the cards back in the deck after drawing, then $P(ace)=\\frac{4}{52}$  for every draw. In this case, it's correct to do:\n",
        "\n",
        "$\n",
        "P(AAAA) = \\displaystyle \\left(\\frac{4}{52}\\right)^4 = 0.000035\n",
        "$\n",
        "\n",
        "When we replace the cards after drawing, we say that we're sampling with replacement. When we don't put the cards back, we're sampling without replacement. In either case, the chances of getting four aces in a row are extremely low, so remember: never bet on getting four aces in a row.\n",
        "\n",
        "Let's now look at a similar exercise and wrap up this mission on the next section.\n",
        "\n",
        "\n",
        "**Exercise**\n",
        "\n",
        "<img width=\"100\" src=\"https://drive.google.com/uc?export=view&id=1E8tR7B9YYUXsU_rddJAyq0FrM0MSelxZ\">\n",
        "\n",
        "- We're sampling without replacement from a standard 52-card deck. Find the probability of:\n",
        "  - Getting two kings in a row. Assign your answer to **p_kk**.\n",
        "  - Getting a seven of hearts, followed by a queen of diamonds. Assign your answer to **p_7q**.\n",
        "  - Getting a jack, followed by a queen of diamonds, followed by a king, followed by another jack. Assign your answer to **p_jqkj**. This one is a bit tricky, so pay attention to the details of the question.\n"
      ]
    },
    {
      "cell_type": "code",
      "metadata": {
        "id": "zYR98P4Zzo_t",
        "colab_type": "code",
        "colab": {}
      },
      "source": [
        "# put your answer here"
      ],
      "execution_count": 0,
      "outputs": []
    },
    {
      "cell_type": "markdown",
      "metadata": {
        "id": "8u08HLi5b-I8",
        "colab_type": "text"
      },
      "source": [
        "## 1.9 - Next Steps"
      ]
    },
    {
      "cell_type": "markdown",
      "metadata": {
        "id": "riZ9TJNTb_sC",
        "colab_type": "text"
      },
      "source": [
        "In this first section, we learned new techniques and managed to answer the five questions we posed in the intro:\n",
        "\n",
        "- What is the probability that it takes three flips or more for a coin to land heads up?\n",
        "- What is the probability of a coin landing heads up 18 times in a row?\n",
        "- What is the probability of getting at least one 6 in four throws of a single six-sided die?\n",
        "- What is the probability of getting at least one double-six in 24 throws of two six-sided dice?\n",
        "- What is the probability of getting four aces in a row when drawing cards from a standard 52-card deck?\n",
        "\n"
      ]
    },
    {
      "cell_type": "markdown",
      "metadata": {
        "id": "rSGGg6YNOike",
        "colab_type": "text"
      },
      "source": [
        "# 2 - Conditional Probability\n"
      ]
    },
    {
      "cell_type": "markdown",
      "metadata": {
        "id": "affqQ9jAProb",
        "colab_type": "text"
      },
      "source": [
        "\n",
        "Suppose we had a bag that contained two coins. \n",
        "- One coin is a fair coin\n",
        "- And the other has a bias of 0.95, that is, if you flip this biased coin, it will come up heads with probability 0.95 and tails with probability 0.05. \n",
        "\n",
        "Holding the bag in one hand, you blindly reach in with\n",
        "your other, and pick out a coin. You flip this coin 3 times and see that all three times, the coin came up heads. You suspect that this coin is “likely” the biased coin, but how “likely” is it?\n",
        "\n",
        "**This problem highlights a typical situation in which new information changes the likelihood of an event**. The original event was “we pick the biased coin”. Before reaching in to grab a coin and then flipping it, we would reason that the probability of this event occurring (picking the biased coin) is $\\frac{1}{2}$.\n",
        "\n",
        "After flipping the coin a couple of times and seeing that it landed heads all three times, **we gain new information**, and our probability should no longer be $\\frac{1}{2}$. In fact, it\n",
        "should be much higher. In this case, we “condition” on the event of flipping 3 heads out of 3 total flips. We would write this new probability as\n",
        "\n",
        "$\n",
        "P(picking \\ the \\\n",
        " biased \\ coin \\  |  \\ flipping \\ 3 \\ heads \\ out \\ of \\ 3 \\ total \\ flips)\n",
        "$\n",
        "\n",
        "The \"bar\" between the two events in the probability expression above represents \"conditioned on\", and is defined below.\n",
        "\n",
        "\n",
        "**Definition** The probability of an event A conditioned on an event B is denoted and defined\n",
        "\n",
        "$\n",
        "P(A | B) = \\displaystyle \\frac{P(A ∩ B)}{P(B)}\n",
        "$\n",
        "\n",
        "\n",
        "The intuition of this definition can be gained by playing with the visualization on this [website](https://seeing-theory.brown.edu/compound-probability/index.html#section3). Suppose we drop a ball uniformly at random in the visualization. If we ask “What is the probability that a ball hits the orange shelf?\", we can compute this probability by simply dividing the length of the orange shelf by the length of the entire space. Now suppose we are given the information that our ball landed on the green shelf. What is the probability of landing on the orange shelf now? Our green shelf has become our “new” sample space, and the proportion of the green shelf that overlaps with the orange shelf is now the only region in which we could have possibly landed on the orange shelf. To compute this new conditional probability, we would divide the length of the overlapping, or “intersecting”, regions of the orange and green shelves by the total length of the green shelf.\n",
        "\n"
      ]
    },
    {
      "cell_type": "markdown",
      "metadata": {
        "id": "heeOzFn-SiMl",
        "colab_type": "text"
      },
      "source": [
        "\n",
        "## 2.1 Bayes Rule\n"
      ]
    },
    {
      "cell_type": "markdown",
      "metadata": {
        "id": "aYcCM7gDhazv",
        "colab_type": "text"
      },
      "source": [
        "\n",
        "Now that we’ve understood where the definition of conditional probability comes from, we can use it to prove a useful identity.\n",
        "\n",
        "**Theorem (Bayes Rule)**. Let A and B be two subsets of our sample space $\\Omega$. Then\n",
        "\n",
        "$$P(A | B) = \\frac{P(B | A)P(A)}{P(B)}$$\n",
        "\n",
        "\n",
        "Proof. By the definition of conditional probability,\n",
        "\n",
        "$$P(A | B) = \\frac{P(A ∩ B)}{P(B)}$$\n",
        "\n",
        "Similarly,\n",
        "\n",
        "$$P(B | A) = \\frac{P(A ∩ B)}{P(A)}$$\n",
        "\n",
        "Multiplying both sides by P(A) gives\n",
        "\n",
        "$$P(B | A)P(A) = P(A ∩ B)$$\n",
        "\n",
        "Plugging this into our first equation, we conclude\n",
        "\n",
        "$$P(A | B) = \\frac{P(B | A)P(A)}{P(B)}$$\n",
        "\n",
        "### 2.1.1 Coins in a Bag\n",
        "\n",
        "\n",
        "Let’s return to our first example in this section and try to use our new theorem to find a solution. Define the events\n",
        "\n",
        "$$A = \\{\\textrm{Picking the biased coin}\\}$$\n",
        "\n",
        "$$B = \\{\\textrm{Flipping 3 heads out of 3 total flips} \\}$$\n",
        "\n",
        "\n",
        "We were interested in computing the probability $P(A | B)$. By Bayes Rule,\n",
        "\n",
        "$$ P(A | B) = \\frac{P(B | A)P(A)}{P(B)}$$\n",
        "\n",
        "$P(B | A)$, i.e. the probability of flipping 3 heads out of 3 total flips given that we picked the biased coin, is simply $(0.95)^3 ≈ 0.857$. The probability $P(A)$, i.e. the probability that we picked the biased coin is $\\frac{1}{2}$ since we blindly picked a coin from the bag. Now all we need to do is compute $P(B)$, the overall probability of flipping 3 heads in this\n",
        "experiment.\n",
        "\n",
        "$$\n",
        "\\begin{eqnarray*}\n",
        "P(B) &=& P(B|A)P(A) + P(B|A^c)P(A^c)\\\\\n",
        "&=& 0.857 \\times 0.5 + 0.125 \\times 0.5\\\\\n",
        "&=& 0.491\n",
        "\\end{eqnarray*}\n",
        "$$\n",
        "\n",
        "\n",
        "Plugging this back into the formula given by Bayes Rule,\n",
        "\n",
        "$$\n",
        "\\begin{eqnarray*}\n",
        "P(A | B) &=& \\frac{0.857 \\times 0.5}{0.491}\n",
        "&=& 0.873\n",
        "\\end{eqnarray*}\n",
        "$$\n",
        "Thus, given that we flipped 3 heads out of a total 3 flips, the probability\n",
        "that we picked the biased coin is roughly 87.3%.\n",
        "\n",
        "\n",
        "<br>\n",
        "<div class=\"alert alert-info\">\n",
        "<b>Case Study -  Analyzing the Bayes's rule in a real problem </b>\n",
        "</div>\n",
        "\n",
        "### Reference\n",
        "\n",
        "[William Koehrsen's Github](\n",
        "https://github.com/WillKoehrsen/ai-projects/blob/master/bayesian_inference/bayes_rule_applied.ipynb)\n",
        "[William's Blog](https://towardsdatascience.com/bayes-rule-applied-75965e4482ff\n",
        ")    "
      ]
    }
  ]
}