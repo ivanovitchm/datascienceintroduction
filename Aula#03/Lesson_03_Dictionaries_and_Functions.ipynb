{
  "nbformat": 4,
  "nbformat_minor": 0,
  "metadata": {
    "colab": {
      "name": "Lesson#03 - Dictionaries and Functions.ipynb",
      "version": "0.3.2",
      "provenance": []
    },
    "kernelspec": {
      "name": "python3",
      "display_name": "Python 3"
    }
  },
  "cells": [
    {
      "metadata": {
        "id": "k_cOAcbqFf_4",
        "colab_type": "text"
      },
      "cell_type": "markdown",
      "source": [
        "## 1 Dictionaries and Frequency Tables"
      ]
    },
    {
      "metadata": {
        "id": "wCVHSPp3F1kQ",
        "colab_type": "text"
      },
      "cell_type": "markdown",
      "source": [
        " ### 1.1 Storing Data"
      ]
    },
    {
      "metadata": {
        "id": "rHkrleFNgWi4",
        "colab_type": "text"
      },
      "cell_type": "markdown",
      "source": [
        "In the last lesson, we worked with a data set that stores information for 7,197 mobile apps:\n",
        "\n",
        "| |id | track_name | size_bytes | price | user_rating_ver | ver | cont_rating | prime_genre | \n",
        "|----|------------|-------------------------|-------|-----------------|-----|-------------|-------------|-------------------|\n",
        "| 0 | 284882215 | Facebook | USD | 3.5 | 3.5 | 95.0 | 4+ | Social Networking |\n",
        "| 1 | 389801252 | Instagram | USD | 4.5 | 4.0 | 10.23 | 12+ | Photo & Video |\n",
        "| 2 | 529479190 | Clash of Clans | USD | 4.5 | 4.5 | 9.24.12 | 9+ | Games |\n",
        "| 3 | 420009108 | Temple Run | USD | 4.5 | 4.0 | 1.6.2 | 9+ | Games |\n",
        "| 4 | 284035177 | Pandora - Music & Radio | USD | 4.0 | 4.5 | 8.4.1 | 12+ | Music |\n",
        "\n",
        "\n",
        "The **cont_rating** column offers information about the content rating of each app. The content rating of an app (also known as the maturity rating) represents the age required to use that app. The table below shows the unique content ratings in our data set, along with the number of apps specific to each rating:\n",
        "\n",
        "| Content rating | Number of apps |\n",
        "|----------------|----------------|\n",
        "| 4+ | 4,433 |\n",
        "| 9+ | 987 |\n",
        "| 12+ | 1,155 |\n",
        "| 17+ | 622 |\n",
        "\n",
        "From the table above, we can see that:\n",
        "\n",
        "- Most apps (4,433 apps) have a content rating of 4+ (only people of age four or more are allowed to use these apps).\n",
        "- Apps with a content rating of 17+ are the fewest (622 apps).\n",
        "- In the middle, we have the 9+ and 12+ apps — 987 apps have a content rating of 9+, and 1,155 apps have a rating of 12+.\n",
        "\n",
        "If we wanted to save the data from the table above, we could use two lists or maybe a list of lists. We'll try this in the following exercise, while in the next sections we'll learn about **dictionaries** and explore a more efficient solution for storing the data above.\n",
        "\n",
        "\n",
        "**Exercise**\n",
        "<left><img width=\"100\" src=\"https://drive.google.com/uc?export=view&id=1E8tR7B9YYUXsU_rddJAyq0FrM0MSelxZ\" /></left>\n",
        "\n",
        "\n",
        "- Store the data in the table above using two different lists.\n",
        "  - Assign the list ['4+', '9+', '12+', '17+'] to a variable named **content_ratings**.\n",
        "  - Assign the list [4433, 987, 1155, 622] to a variable named **numbers**.\n",
        "- Store the data in the table above using a list of lists. Assign the list [['4+', '9+', '12+', '17+'], [4433, 987, 1155, 622]] to a variable named **content_rating_numbers**.\n",
        "\n"
      ]
    },
    {
      "metadata": {
        "id": "HQwYS3xXghAM",
        "colab_type": "code",
        "colab": {}
      },
      "cell_type": "code",
      "source": [
        "# put your code here"
      ],
      "execution_count": 0,
      "outputs": []
    },
    {
      "metadata": {
        "id": "-nZi5bCWiPde",
        "colab_type": "text"
      },
      "cell_type": "markdown",
      "source": [
        "### 1.2 Dictionaries"
      ]
    },
    {
      "metadata": {
        "id": "xmAc3ACdiaGJ",
        "colab_type": "text"
      },
      "cell_type": "markdown",
      "source": [
        "In the previous subsection, we saw a table that shows the unique content ratings in our data set, along with the number of apps specific to each rating:\n",
        "\n",
        "| Content rating | Number of apps |\n",
        "|----------------|----------------|\n",
        "| 4+ | 4,433 |\n",
        "| 9+ | 987 |\n",
        "| 12+ | 1,155 |\n",
        "| 17+ | 622 |\n",
        "\n",
        "We stored the data above in two ways:\n",
        "\n",
        "- Using two separate lists\n",
        "- Using a single list of lists\n",
        "\n",
        "<left><img width=\"400\" src=\"https://drive.google.com/uc?export=view&id=18D4vQ-JERgYxeghnxlBEcxrzbYmb4dtR\" /></left>\n",
        "\n",
        "Looking at the lists above, it may not be immediately clear which content rating corresponds to which number — especially for someone who doesn't have enough context. We need to find a better way to map a content rating to its corresponding number.\n",
        "\n",
        "Remember that each list element has an index number. Let's consider the **numbers** list:\n",
        "\n",
        "<left><img width=\"300\" src=\"https://drive.google.com/uc?export=view&id=1Rt6aBHg18wizfv1xdeJ5VEeMbONvcF0x\" /></left>\n",
        "\n",
        "What if we could transform the index numbers to content rating values? This way, the mapping between content ratings and their corresponding numbers should become much more clear.\n",
        "\n",
        "<left><img width=\"300\" src=\"https://drive.google.com/uc?export=view&id=1NTj5c5W6CEAND3ur18T5TUeDrDdBmT2x\" /></left>\n",
        "\n",
        "Fortunately, we can do this using a **dictionary**:\n",
        "\n",
        "<left><img width=\"500\" src=\"https://drive.google.com/uc?export=view&id=1N6Wu8WWqFCbAe_3BftmaTuisZwrP8c5Y\" /></left>\n",
        "\n",
        "To create the dictionary above, we:\n",
        "\n",
        "- Mapped each content rating to its corresponding number by following an index:value pattern. For instance, to map a rating of '4+' to the number 4,433, we typed '4+': 4433 (notice the colon between '4+' and 4433). To map '9+' to 987, we typed '9+': 987, and so on.\n",
        "- Typed the entire sequence of index:value pairs, and separated each with a comma: '4+': 4433, '9+': 987, '12+': 1155, '17+': 622\n",
        "- Surrounded the sequence with curly braces: {'4+': 4433, '9+': 987, '12+': 1155, '17+': 622}\n",
        "\n",
        "\n",
        "\n",
        "**Exercise**\n",
        "<left><img width=\"100\" src=\"https://drive.google.com/uc?export=view&id=1E8tR7B9YYUXsU_rddJAyq0FrM0MSelxZ\" /></left>\n",
        "\n",
        "- Map content ratings to their corresponding numbers by recreating the dictionary above: {'4+': 4433, '9+': 987, '12+': 1155, '17+': 622}. Assign the dictionary to a variable named **content_ratings**.\n",
        "- Print **content_ratings** and examine the output carefully. Has the order we used to create the dictionary been preserved? In other words, is the output identical to {'4+': 4433, '9+': 987, '12+': 1155, '17+': 622}? We'll discuss more about this in the subsection."
      ]
    },
    {
      "metadata": {
        "id": "sXeY7A8Citf5",
        "colab_type": "code",
        "colab": {}
      },
      "cell_type": "code",
      "source": [
        "# put your code here"
      ],
      "execution_count": 0,
      "outputs": []
    },
    {
      "metadata": {
        "id": "rnfqmk8kslLO",
        "colab_type": "text"
      },
      "cell_type": "markdown",
      "source": [
        "### 1.3 Indexing\n"
      ]
    },
    {
      "metadata": {
        "id": "beA4UJ1NsoJo",
        "colab_type": "text"
      },
      "cell_type": "markdown",
      "source": [
        "Remember from the previous subsection that using a dictionary allowed us to change the index numbers of a list to content rating values — this way, the mapping between content ratings and their corresponding numbers became much more clear.\n",
        "\n",
        "\n",
        "To retrieve the individual values of the **content_ratings** dictionary, we can use the new indices. The way we retrieve individual dictionary values is identical to the way we retrieve individual list elements — we follow a **variable_name[index]** pattern:\n",
        "\n",
        "<left><img width=\"450\" src=\"https://drive.google.com/uc?export=view&id=1X_2J__qfnAyOwMpPZViQiuREro3xJd6V\" /></left>\n",
        "\n",
        "This is contrary to what we've seen with lists, where the order is always preserved. In lists, there's a direct connection between the index of a value and the position of that value in the list. For instance, the index value 0 always retrieves the list element that's positioned first in a list. If order wasn't preserved and list elements were constantly swapped, then the index value 0 would retrieve different list elements at different times — this is something we strongly want to avoid.\n",
        "\n",
        "With dictionaries, there's no connection anymore between the index of a value and the position of that value in the dictionary, so the order becomes unimportant. For instance, the index value '4+' will retrieve the value 4433 no matter its position — 4433 could be the first element in the dictionary, the second, the fourth, it doesn't matter.\n",
        "\n",
        "Whether or not order is preserved within dictionaries also depends on the version of Python we use — we'll discuss versions later on in this course. Now, let's practice retrieving a few dictionary values.\n",
        "\n",
        "\n",
        "\n",
        "**Exercise**\n",
        "<left><img width=\"100\" src=\"https://drive.google.com/uc?export=view&id=1E8tR7B9YYUXsU_rddJAyq0FrM0MSelxZ\" /></left>\n",
        "\n",
        "- Retrieve values from the **content_ratings** dictionary.\n",
        "  - Assign the value at index '9+' to a variable named **over_9**.\n",
        "  - Assign the value at index '17+' to a variable named **over_17**.\n",
        "- Print **over_9** and **over_17**.\n",
        "\n"
      ]
    },
    {
      "metadata": {
        "id": "-cS1Ws-bsrjj",
        "colab_type": "code",
        "colab": {}
      },
      "cell_type": "code",
      "source": [
        "content_ratings = {'4+': 4433, '9+': 987, '12+': 1155, '17+': 622}\n",
        "\n",
        "# put your code here"
      ],
      "execution_count": 0,
      "outputs": []
    },
    {
      "metadata": {
        "id": "EMsVOJRYvX0y",
        "colab_type": "text"
      },
      "cell_type": "markdown",
      "source": [
        "### 1.4 Alternative Way of Creating a Dictionary"
      ]
    },
    {
      "metadata": {
        "id": "AC6j85qdvl1q",
        "colab_type": "text"
      },
      "cell_type": "markdown",
      "source": [
        "We can create a dictionary and populate it with values by following these steps:\n",
        "\n",
        "- We create an empty dictionary.\n",
        "- We add values one by one to that empty dictionary.\n",
        "\n",
        "Adding a value to a dictionary follows the pattern **dictionary_name[index] = value**. To add a value 4433 with an index '4+' to a dictionary named **content_ratings**, we need to use the code **content_ratings['4+'] = 4433**.\n",
        "\n",
        "<left><img width=\"400\" src=\"https://drive.google.com/uc?export=view&id=1qRQdOytXhD5NrDegPwx1lNDA0kbz7HMw\" /></left>\n",
        "\n",
        "\n",
        "**Exercise**\n",
        "<left><img width=\"100\" src=\"https://drive.google.com/uc?export=view&id=1E8tR7B9YYUXsU_rddJAyq0FrM0MSelxZ\" /></left>\n",
        "\n",
        "- Use the new technique we learned above to map content ratings to their corresponding numbers inside a dictionary.\n",
        "  - Create an empty dictionary named **content_ratings**.\n",
        "  - Add the **index:value** pairs one by one using the **dictionary_name[index] = value** technique. This should be the final form of the dictionary: {'4+': 4433, '9+': 987, '12+': 1155, '17+': 622}.\n",
        "- Retrieve the value at index 12+ from the **content_ratings** dictionary, and assign it to a variable named **over_12_n_apps**.\n",
        "\n"
      ]
    },
    {
      "metadata": {
        "id": "n2WPyBZSv5AF",
        "colab_type": "code",
        "colab": {}
      },
      "cell_type": "code",
      "source": [
        "# put your code here"
      ],
      "execution_count": 0,
      "outputs": []
    },
    {
      "metadata": {
        "id": "6dOI5Un3Y5Kp",
        "colab_type": "text"
      },
      "cell_type": "markdown",
      "source": [
        "### 1.5 Key-Value Pairs"
      ]
    },
    {
      "metadata": {
        "id": "7YSgbO2YY6U_",
        "colab_type": "text"
      },
      "cell_type": "markdown",
      "source": [
        "The index of a dictionary value is called a **key**. In '4+': 4433, the dictionary key is '4+', and the dictionary value is 4433. As a whole, '4+': 4433 is a **key-value** pair.\n",
        "\n",
        "<left><img width=\"500\" src=\"https://drive.google.com/uc?export=view&id=1iyS33fmYlwLIUOUe9SMzBo81iI70GFP7\" /></left>\n",
        "\n",
        "Dictionary values can be of any data type: strings, integers, floats, Booleans, lists, and even dictionaries.\n",
        "\n",
        "<left><img width=\"400\" src=\"https://drive.google.com/uc?export=view&id=1uvYRBfFJ7eDW0E7OsyhoYOJgadric10Z\" /></left>\n",
        "\n",
        "Dictionary keys can be of almost any data type we've learned so far, except lists and dictionaries. \n",
        "\n",
        "<left><img width=\"400\" src=\"https://drive.google.com/uc?export=view&id=1qy-7YnMHr3X7EJQ2FQhLIU6efxKA4wTG\" /></left>\n",
        "\n",
        "\n",
        "If we use lists or dictionaries as dictionary keys, the computer raises an error:\n",
        "\n",
        "\n",
        "<left><img width=\"500\" src=\"https://drive.google.com/uc?export=view&id=1CK4MwOVFOBdvJ9MYVxb8PB7oxh59QKBz\" /></left>\n",
        "\n",
        "\n",
        "In the spirit of explaining what happens behind the curtains, we're going to explain below why this error is raised. Understanding this, however, is not important for moving forward in this mission, so feel free to jump straight to the exercises.\n",
        "\n",
        "To understand the error messages above, we have to take a brief look at what Python does behind the scenes. When we populate a dictionary, Python tries to convert each dictionary key to an integer (even if the key is of a data type other than an integer) in the background. Python does the conversion using the **hash()** command:\n",
        "\n",
        "<left><img width=\"200\" src=\"https://drive.google.com/uc?export=view&id=1AS0GLDREehM8meuz4uXcPRBZL5vTr_Iu\" /></left>\n",
        "\n",
        "For reasons we'll be able to understand later, the **hash()** command doesn't transform lists and dictionaries to integers, and returns an error instead. Notice the error messages are identical to what we got when we tried to use lists or dictionaries as keys.\n",
        "\n",
        "<left><img width=\"400\" src=\"https://drive.google.com/uc?export=view&id=1nQsssulsgX2CqFMR3F0PRs8VDuJs-dRT\" /></left>\n",
        "\n",
        "\n",
        "When we populate a dictionary, we also need to make sure each key in that dictionary is unique. If we use an identical key for two different values or more, Python keeps only the last key-value pair in the dictionary and removes the others — this means that we'll lose data. We illustrate this in the diagram below, where we highlited the identical keys with a distinct color:\n",
        "\n",
        "<left><img width=\"400\" src=\"https://drive.google.com/uc?export=view&id=1m7k0ErHjWb2Am3zkR6IOiicSTqkL9RZa\" /></left>\n",
        "\n",
        "**Exercise**\n",
        "<left><img width=\"100\" src=\"https://drive.google.com/uc?export=view&id=1E8tR7B9YYUXsU_rddJAyq0FrM0MSelxZ\" /></left>\n",
        "\n",
        "- Create the following dictionary and assign it to a variable named **d_1**:\n",
        "\n",
        "```python\n",
        "{'key_1': 'first_value', \n",
        " 'key_2': 2,\n",
        " 'key_3': 3.14,\n",
        " 'key_4': True,\n",
        " 'key_5': [4,2,1],\n",
        " 'key_6': {'inner_key' : 6}\n",
        " }\n",
        "```\n",
        "\n",
        "- Examine the code below and determine whether it'll raise an error or not. If you think it'll raise an error, then assign the boolean True to a variable named error, otherwise assign False.\n",
        "\n",
        "```python\n",
        "{4: 'four',\n",
        "1.5: 'one point five',\n",
        "'string_key': 'string_value',\n",
        "True: 'True',\n",
        "[1,2,3]: 'a list',\n",
        "{10: 'ten'}: 'a dictionary'}\n",
        "```\n",
        "\n",
        "\n"
      ]
    },
    {
      "metadata": {
        "id": "ZV9dctpPZClt",
        "colab_type": "code",
        "colab": {}
      },
      "cell_type": "code",
      "source": [
        "# put your code here"
      ],
      "execution_count": 0,
      "outputs": []
    },
    {
      "metadata": {
        "id": "X6vg7kbhfNOO",
        "colab_type": "text"
      },
      "cell_type": "markdown",
      "source": [
        "### 1.6 Checking for Membership"
      ]
    },
    {
      "metadata": {
        "id": "RJieMQdefQtO",
        "colab_type": "text"
      },
      "cell_type": "markdown",
      "source": [
        "Previously, we worked with a small table showing the four unique content ratings in our data set, along with the number of apps corresponding to each rating.\n",
        "\n",
        "| Content rating | Number of apps |\n",
        "|----------------|----------------|\n",
        "| 4+ | 4,433 |\n",
        "| 9+ | 987 |\n",
        "| 12+ | 1,155 |\n",
        "| 17+ | 622 |\n",
        "\n",
        "You might have wondered how we managed to count the number of apps for each unique content rating. How did we find out there are 4,433 apps with a 4+ content rating, or 622 apps with a 17+ rating? Part of the answer is that we used a technique that makes use of the special properties of dictionaries. The full answer is a bit lengthier, and we'll explore it over this subsection and the next — we'll learn how to count the number of apps for each unique content rating.\n",
        "\n",
        "Once we've created a dictionary, we can check whether a certain value exists in the dictionary as a key. We can check, for instance, whether the value '12+' exists as a key in the dictionary {'4+': 4433, '9+': 987, '12+': 1155, '17+': 622}. To do that, we use the **in** operator.\n",
        "\n",
        "<left><img width=\"600\" src=\"https://drive.google.com/uc?export=view&id=1rPsn_uOr-jhY53oKpZnm8MfGCAwpY-SS\" /></left>\n",
        "\n",
        "An expression of the form **a_value** in **a_dictionary** always returns a Boolean value:\n",
        "\n",
        "- **True** is returned if **a_value** exists in **a_dictionary** as a dictionary key.\n",
        "- **False** is returned if **a_value** doesn't exist in **a_dictionary** as a dictionary key.\n",
        "\n",
        "**Exercise**\n",
        "<left><img width=\"100\" src=\"https://drive.google.com/uc?export=view&id=1E8tR7B9YYUXsU_rddJAyq0FrM0MSelxZ\" /></left>\n",
        "\n",
        "\n",
        "- Using the **in** operator, check whether the following values exist as dictionary keys in the **content_ratings** dictionary:\n",
        "\n",
        "  - The string '9+'. Assign the output of the expression to a variable named **is_in_dictionary_1**.\n",
        "  - The integer 987. Assign the output of the expression to a variable named **is_in_dictionary_2**.\n",
        "- Combine the output of an expression containing **in** with an if statement. If the string '17+' exists as dictionary key in **content_ratings**, then:\n",
        "  - Assign the string \"It exists\" to a variable named **result**.\n",
        "  - Print the **result** variable."
      ]
    },
    {
      "metadata": {
        "id": "8sFu9iUnfiEs",
        "colab_type": "code",
        "colab": {}
      },
      "cell_type": "code",
      "source": [
        "content_ratings = {'4+': 4433, '9+': 987, '12+': 1155, '17+': 622}\n",
        "# put your code here"
      ],
      "execution_count": 0,
      "outputs": []
    },
    {
      "metadata": {
        "id": "iO_2PmjFhbwe",
        "colab_type": "text"
      },
      "cell_type": "markdown",
      "source": [
        "### 1.7 Counting with Dictionaries"
      ]
    },
    {
      "metadata": {
        "id": "k3hRe9HNhu0B",
        "colab_type": "text"
      },
      "cell_type": "markdown",
      "source": [
        "Once we've created and populated a dictionary, we can update (change) the dictionary values. To update a dictionary value, we need to reference it by its corresponding dictionary key and then perform the updating operation we want. In the code example below, we:\n",
        "\n",
        "- Change the value corresponding to the dictionary key '4+' from 4433 to 0.\n",
        "- Add 13 to the value corresponding to the dictionary key '9+'.\n",
        "- Subtract 1155 from the value corresponding to the dictionary key '12+'.\n",
        "- Change the value corresponding to the dictionary key '17+' from 622 (integer) to '622' (string).\n",
        "\n",
        "<left><img width=\"600\" src=\"https://drive.google.com/uc?export=view&id=1BP16mBNq3qIJ3CoH0LefS8z2qu_7BtIz\" /></left>\n",
        "\n",
        "We can combine updating dictionary values with what we know already to count how many times each unique content rating occurs in our data set. \n",
        "\n",
        "<left><img width=\"500\" src=\"https://drive.google.com/uc?export=view&id=1qX7DQ5Zq3slleIwcczT7gD339NKtHr25\" /></left>\n",
        "\n",
        "**Exercise**\n",
        "<left><img width=\"100\" src=\"https://drive.google.com/uc?export=view&id=1E8tR7B9YYUXsU_rddJAyq0FrM0MSelxZ\" /></left>\n",
        "\n",
        "- Count the number of times each unique content rating occurs in the data set.\n",
        "  - Create a dictionary named **content_ratings** where the keys are the unique content ratings and the values are all 0 (the values of 0 are temporary at this point, and they'll be updated).\n",
        "  - Loop through the **apps_data** list of lists. Make sure you don't include the header row. For each iteration of the loop:\n",
        "    - Assign the content rating value to a variable named **c_rating**. The content rating is at index number 10 in each row.\n",
        "    - Check whether **c_rating** exists as a key in **content_ratings**. If it exists, then increment the dictionary value at that key by 1 (the key is equivalent to the value stored in **c_rating**).\n",
        "  - Outside the loop, print **content_ratings** to check whether the counting worked as expected.\n"
      ]
    },
    {
      "metadata": {
        "id": "rcw7DY2Nimos",
        "colab_type": "code",
        "colab": {}
      },
      "cell_type": "code",
      "source": [
        "opened_file = open('AppleStore.csv')\n",
        "from csv import reader\n",
        "read_file = reader(opened_file)\n",
        "apps_data = list(read_file)\n",
        "\n",
        "# put your code here"
      ],
      "execution_count": 0,
      "outputs": []
    },
    {
      "metadata": {
        "id": "pkVjm5SenXlE",
        "colab_type": "text"
      },
      "cell_type": "markdown",
      "source": [
        "### 1.8 Finding the Unique Values"
      ]
    },
    {
      "metadata": {
        "id": "G2fX-dKZnbZA",
        "colab_type": "text"
      },
      "cell_type": "markdown",
      "source": [
        "Previously, we created the dictionary **{'4+': 0, '9+': 0, '12+': 0, '17+': 0}** before we looped over the data set to count the occurrence of each content rating. Unfortunately, this approach requires us to know beforehand the unique values we want to count.\n",
        "\n",
        "Let's say we didn't know what the unique content ratings are. This means that we don't have enough information to create the dictionary **{'4+': 0, '9+': 0, '12+': 0, '17+': 0}**. We need to devise a way to extract this information.\n",
        "\n",
        "Our data set has 7,197 rows, and it's impractical to go over each row and figure out what the unique content ratings are. As a workaround, we can modify the logic of the code we used in the previous screen to find the unique values automatically.\n",
        "\n",
        "Let's consider again the count we did for the list **['4+', '4+', '4+', '9+', '9+', '12+', '17+']**. To perform the count while finding the unique values automatically, we will:\n",
        "\n",
        "- Create an empty dictionary named **content_ratings**.\n",
        "- Loop through the list **['4+', '4+', '4+', '9+', '9+', '12+', '17+']**, and check for every iteration whether the iteration variable (**c_rating**) exists as a key in **content_ratings**.\n",
        "  - If it exists, then increment the dictionary value at that key by 1.\n",
        "  - Else (if it doesn't exist), create a new key-value pair in the **content_ratings** dictionary, where the dictionary key is the iteration variable (**c_rating**) and the dictionary value is 1.\n",
        "  \n",
        "<left><img width=\"500\" src=\"https://drive.google.com/uc?export=view&id=1zPUxDMjDXCviHaWE1T9rpPMay-sFpKjv\" /></left>\n",
        "\n",
        "\n",
        "**Exercise**\n",
        "<left><img width=\"100\" src=\"https://drive.google.com/uc?export=view&id=1E8tR7B9YYUXsU_rddJAyq0FrM0MSelxZ\" /></left>\n",
        "\n",
        "\n",
        "- Count the number of times each unique content rating occurs in the data set while finding the unique values automatically.\n",
        "  - Create an empty dictionary named **content_ratings**.\n",
        "  - Loop through the **apps_data** list of lists (make sure you don't include the header row). For each iteration of the loop:\n",
        "    - Assign the content rating value to a variable named **c_rating**. The content rating is at index number 10.\n",
        "    - Check whether **c_rating** exists as a key in **content_ratings**.\n",
        "      - If it exists, then increment the dictionary value at that key by 1 (the key is equivalent to the value stored in **c_rating**).\n",
        "      - Else, create a new key-value pair in the dictionary, where the dictionary key is **c_rating** and the dictionary value is 1.\n",
        "  - Outside the loop, print **content_ratings** to check whether the counting worked as expected.\n",
        "  "
      ]
    },
    {
      "metadata": {
        "id": "kkicJyptoZYS",
        "colab_type": "code",
        "colab": {}
      },
      "cell_type": "code",
      "source": [
        "opened_file = open('AppleStore.csv')\n",
        "from csv import reader\n",
        "read_file = reader(opened_file)\n",
        "apps_data = list(read_file)\n",
        "\n",
        "# put your code here"
      ],
      "execution_count": 0,
      "outputs": []
    },
    {
      "metadata": {
        "id": "gazBcc0aqaY7",
        "colab_type": "text"
      },
      "cell_type": "markdown",
      "source": [
        "### 1.9 Looping over dictionaries"
      ]
    },
    {
      "metadata": {
        "id": "oeJtTvgCrWci",
        "colab_type": "text"
      },
      "cell_type": "markdown",
      "source": [
        "To transform frequencies to proportions or percentages, we can update the dictionary values individually by performing the required arithmetical operations.\n",
        "\n",
        "Updating each individual dictionary value can get more and more cumbersome as the dictionary length increases. For a dictionary with 20 key-value pairs, we'd have to manually update 20 dictionary values. Fortunately, we can speed up the process using a for loop.\n",
        "\n",
        "Additionally, we'll often need to keep the dictionaries separate for later analysis. For instance, we might want to have three separate dictionaries: one storing frequencies, another storing proportions, and another storing percentages.\n",
        "\n",
        "When we transform frequencies to proportions, we can create a new dictionary instead of overwriting the values in the initial dictionary. To do that, we can create a new empty dictionary and populate it within the loop:\n",
        "\n",
        "<left><img width=\"600\" src=\"https://drive.google.com/uc?export=view&id=1a0cUvxnG9V-lzcwI7K6BtPP7vTDB7oMh\" /></left>\n",
        "\n",
        "\n",
        "**Exercise**\n",
        "<left><img width=\"100\" src=\"https://drive.google.com/uc?export=view&id=1E8tR7B9YYUXsU_rddJAyq0FrM0MSelxZ\" /></left>\n",
        "\n",
        "\n",
        "\n",
        "- Transform the frequencies inside **content_ratings** to proportions and percentages while creating separate dictionaries for each.\n",
        "  - Assign the dictionary storing proportions to a variable named **c_ratings_proportions**.\n",
        "  - Assign the dictionary storing percentages to a variable named **c_ratings_percentages**.\n",
        "- Optional challenge: try to solve this exercise using a single for loop"
      ]
    },
    {
      "metadata": {
        "id": "3taP5AawsbsV",
        "colab_type": "code",
        "colab": {}
      },
      "cell_type": "code",
      "source": [
        "content_ratings = {'4+': 4433, '12+': 1155, '9+': 987, '17+': 622}\n",
        "total_number_of_apps = 7197\n",
        "\n",
        "# put your code here"
      ],
      "execution_count": 0,
      "outputs": []
    },
    {
      "metadata": {
        "id": "p8ngRFgTY7ZV",
        "colab_type": "text"
      },
      "cell_type": "markdown",
      "source": [
        "## 2 Functions: Fundamentals"
      ]
    },
    {
      "metadata": {
        "id": "CAkzWN-HY_gc",
        "colab_type": "text"
      },
      "cell_type": "markdown",
      "source": [
        "### 2.1 Functions"
      ]
    },
    {
      "metadata": {
        "id": "boHbj_WvZEUp",
        "colab_type": "text"
      },
      "cell_type": "markdown",
      "source": [
        "A function is composed of a **header** (which contains the def statement), a **body**, and a **return** statement. Together, these three elements make up the **function's definition**. We'll often use the phrase *\"inside the function's definition\"* to refer to the function's body.\n",
        "\n",
        "\n",
        "<left><img width=\"400\" src=\"https://drive.google.com/uc?export=view&id=1CxFQDRrruzcf4rHZ696xIqK6i2x8P3Sf\" /></left>\n",
        "\n",
        "\n",
        "Notice we indented the body and the return statement four spaces to the right — recall that we did the same for the bodies of for loops and if statements. Technically, we only need to indent at least one space character to the right, but the convention in the Python community is to use four space characters instead. This helps with readability — other people who follow this convention will be able to read your code easier, and you'll be able to read their code easier."
      ]
    },
    {
      "metadata": {
        "id": "RARfxm-q7KdB",
        "colab_type": "code",
        "outputId": "65a8e830-64cb-43f2-e706-e12576f026e0",
        "colab": {
          "base_uri": "https://localhost:8080/",
          "height": 34
        }
      },
      "cell_type": "code",
      "source": [
        "def square(a_number):\n",
        "    squared_number = a_number * a_number\n",
        "    return squared_number\n",
        "\n",
        "square(2)"
      ],
      "execution_count": 0,
      "outputs": [
        {
          "output_type": "execute_result",
          "data": {
            "text/plain": [
              "4"
            ]
          },
          "metadata": {
            "tags": []
          },
          "execution_count": 5
        }
      ]
    },
    {
      "metadata": {
        "id": "35Eb8Hj_9vIA",
        "colab_type": "text"
      },
      "cell_type": "markdown",
      "source": [
        "### 2.2 Extract Values From Any Column"
      ]
    },
    {
      "metadata": {
        "id": "XcdKfL_T-uNc",
        "colab_type": "text"
      },
      "cell_type": "markdown",
      "source": [
        "Now that we've learned more about functions and how to create them, let's get back to our initial goal: **creating a function that generates frequency tables** for any column we want in our iOS apps data set.\n",
        "\n",
        "Remember our data set is structured as a list of lists."
      ]
    },
    {
      "metadata": {
        "id": "D6WqImcW-0e1",
        "colab_type": "code",
        "outputId": "154b3eec-b3f6-4c29-d10a-7ad470c08bae",
        "colab": {
          "base_uri": "https://localhost:8080/",
          "height": 54
        }
      },
      "cell_type": "code",
      "source": [
        "from csv import reader\n",
        "apps_data = list(reader(open('AppleStore.csv')))\n",
        "print(apps_data[0])"
      ],
      "execution_count": 0,
      "outputs": [
        {
          "output_type": "stream",
          "text": [
            "['id', 'track_name', 'size_bytes', 'currency', 'price', 'rating_count_tot', 'rating_count_ver', 'user_rating', 'user_rating_ver', 'ver', 'cont_rating', 'prime_genre', 'sup_devices.num', 'ipadSc_urls.num', 'lang.num', 'vpp_lic']\n"
          ],
          "name": "stdout"
        }
      ]
    },
    {
      "metadata": {
        "id": "n3hlHqA4_PVr",
        "colab_type": "text"
      },
      "cell_type": "markdown",
      "source": [
        "To generate a frequency table for a certain column, we could:\n",
        "\n",
        "- Extract the values of the column in a separate list.\n",
        "- Generate a frequency table for the elements of that list.\n",
        "\n",
        "One thing we can try is to create a separate function for each of these two tasks:\n",
        "\n",
        "- A function that extracts the values for any column we want in a separate list; and\n",
        "- A function that generates a frequency table for a list\n",
        "\n",
        "\n",
        "Using the first function, we can extract the values for any column we want in a separate list. Then, we can pass the resulting list as an argument to the second function, which will output a frequency table for that list.\n",
        "\n",
        "To extract the values from any column we want from our **apps_data** data set, we need to:\n",
        "\n",
        "- Create an empty list.\n",
        "- Loop through the **apps_data** data set (excluding the header row), and for each iteration:\n",
        "  - Store the value from the column we want in a variable.\n",
        "  - Append that value to the empty list we created outside the for loop.\n",
        "\n",
        "Below, we see how to extract the values for the **cont_ratings** column:\n",
        "\n",
        "<left><img width=\"400\" src=\"https://drive.google.com/uc?export=view&id=1N4Zgz1U0eUGGj8N5t9QF7_wXOYh7pZUq\" /></left>\n",
        "\n",
        "\n",
        "Now let's create a function that extracts the values from any column we want. We'll work again with the iOS apps data set.\n",
        "\n",
        "**Exercise**\n",
        "<left><img width=\"100\" src=\"https://drive.google.com/uc?export=view&id=1E8tR7B9YYUXsU_rddJAyq0FrM0MSelxZ\" /></left>\n",
        "\n",
        "\n",
        "- Write a function named **extract()** that can extract any column you want from the **apps_data** data set.\n",
        "  - The function should take in the **index** number of a column as input (name the parameter as you want).\n",
        "  - Inside the function's definition:\n",
        "    - Create an empty list.\n",
        "    - Loop through the **apps_data** data set (excluding the header) and extract only the value you want by using the parameter (which is expected to be an index number).\n",
        "    - Append that value to the empty list.\n",
        "  - Return the list containing the values of the column.\n",
        "- Use the **extract()** function to extract the values in the **prime_genre** column and store them in a variable named **genres**. The index number of this column is 11.\n"
      ]
    },
    {
      "metadata": {
        "id": "4J0m8msJ_zme",
        "colab_type": "code",
        "colab": {}
      },
      "cell_type": "code",
      "source": [
        "from csv import reader\n",
        "apps_data = list(reader(open('AppleStore.csv')))\n",
        "\n",
        "# put your code here"
      ],
      "execution_count": 0,
      "outputs": []
    },
    {
      "metadata": {
        "id": "RPJKPQfpCqlg",
        "colab_type": "text"
      },
      "cell_type": "markdown",
      "source": [
        "### 2.3 Creating Frequency Tables"
      ]
    },
    {
      "metadata": {
        "id": "qUnkSYlOCzH4",
        "colab_type": "text"
      },
      "cell_type": "markdown",
      "source": [
        "In the previous exercise, we created the **extract()** function, which we can use to extract the values for any column we want from our **apps_data** data set. Remember that we want to create two functions:\n",
        "\n",
        "- A function that extracts the values for any column we want in a separate list (we already created this function — it's the **extract()** function); and\n",
        "- A function that generates a frequency table for a list.\n",
        "\n",
        "In the following exercise, we'll create the second function. Remember that to create a frequency table for the elements of a list, we need to:\n",
        "\n",
        "  - Create an empty dictionary.\n",
        "  - Loop through that list and check for each iteration whether the iteration variable exists as a key in the dictionary created.\n",
        "    - If it exists, then increment by 1 the dictionary value at that key.\n",
        "    - Else (if it doesn't exist), create a new key-value pair in the dictionary, where the dictionary key is the iteration variable, and the dictionary value is 1.\n",
        "    \n",
        " <left><img width=\"500\" src=\"https://drive.google.com/uc?export=view&id=1zPUxDMjDXCviHaWE1T9rpPMay-sFpKjv\" /></left>\n",
        " \n",
        " \n",
        " \n",
        "**Exercise**\n",
        "<left><img width=\"100\" src=\"https://drive.google.com/uc?export=view&id=1E8tR7B9YYUXsU_rddJAyq0FrM0MSelxZ\" /></left>\n",
        "\n",
        "\n",
        "- Write a function named **freq_table()** that generates a frequency table for any list.\n",
        "  - The function should take in a list as input.\n",
        "  - Inside the function's body, write code that generates a frequency table for that list and stores the table in a dictionary.\n",
        "  - Return the frequency table as a dictionary.\n",
        "- Use the **freq_table()** function on the genres list (already defined from the previous exercise) to generate the frequency table for the **prime_genre** column. Store the frequency table to a variable named **genres_ft**.\n",
        "- Feel free to experiment with the **extract()** and **freq_table()** functions to easily create frequency tables for any column you want.\n",
        "\n",
        "\n"
      ]
    },
    {
      "metadata": {
        "id": "Qu4SqvjLEe70",
        "colab_type": "code",
        "colab": {}
      },
      "cell_type": "code",
      "source": [
        "from csv import reader\n",
        "apps_data = list(reader(open('AppleStore.csv')))\n",
        "\n",
        "def extract(index):\n",
        "    column = []    \n",
        "    for row in apps_data[1:]:\n",
        "        value = row[index]\n",
        "        column.append(value)    \n",
        "    return column\n",
        "\n",
        "genres = extract(11)\n",
        "\n",
        "# put your code here"
      ],
      "execution_count": 0,
      "outputs": []
    },
    {
      "metadata": {
        "id": "hQCPbPY9GCCM",
        "colab_type": "text"
      },
      "cell_type": "markdown",
      "source": [
        "### 2.4 Returning Multiple Variables"
      ]
    },
    {
      "metadata": {
        "id": "a48X_GqzJFiW",
        "colab_type": "text"
      },
      "cell_type": "markdown",
      "source": [
        "Python allows us to build functions that return more than just one variable.\n",
        "\n",
        "<left><img width=\"300\" src=\"https://drive.google.com/uc?export=view&id=1C399Qz4V8TG1ubzlhLox6LC60TgEg2vS\" /></left>\n",
        "\n",
        "Above, we passed 15 and 5 as arguments to the **sum_and_difference()** function. The function returned (20, 10), where 20 is the sum, and 10 is the difference. The order of the returned values matches the order of the variables in the return statement.\n",
        "\n",
        "\n",
        "One thing you might have found a bit odd is the structure of the output (20, 10). (20, 10) is a **tuple**, which is a data type that is very similar to a list (recall that examples of data types include integers, strings, lists, dictionaries, etc.).\n",
        "\n",
        "Just as a list, a tuple is usually used for storing multiple values. Creating a tuple is similar to creating a list, with the exception that we need to use parentheses instead of brackets.\n",
        "\n",
        "<left><img width=\"200\" src=\"https://drive.google.com/uc?export=view&id=1-Jq8LbWbEmrZU8LCaswk2Xs8ZDarMX61\" /></left>\n",
        "\n",
        "\n",
        "Just as lists, tuples support positive and negative indexing.\n",
        "\n",
        "<left><img width=\"200\" src=\"https://drive.google.com/uc?export=view&id=15jTa9FCAGpQ3e2EbVbi5mUI2lEsKXU3S\" /></left>\n",
        "\n",
        "\n",
        "The main difference between tuples and lists boils down to whether we can modify the existing values or not. In the case of tuples, we can't modify the existing values, while in the case of lists, we can. Below, we're trying to modify the first value of a list and a tuple.\n",
        "\n",
        "<left><img width=\"400\" src=\"https://drive.google.com/uc?export=view&id=1TOzy38_rZu700He8PTKgoNHaqnFV58_F\" /></left>\n",
        "\n",
        "Tuples are called immutable data types because we can't change their state after they've been created. Conversely, lists are mutable data types because their state can be changed after they've been created. The only way we could modify tuples, and immutable data types in general, is by recreating them. This is a list of all the mutable and immutable data types we've learned so far.\n",
        "\n",
        "<left><img width=\"200\" src=\"https://drive.google.com/uc?export=view&id=15w1EWfYCVix4VCjmwcKJpURYkwC-k7sv\" /></left>\n",
        "\n",
        "\n",
        "\n",
        "**Exercise**\n",
        "<left><img width=\"100\" src=\"https://drive.google.com/uc?export=view&id=1E8tR7B9YYUXsU_rddJAyq0FrM0MSelxZ\" /></left>\n",
        "\n",
        "- Edit the **open_dataset()** function (already written in the cell below) such that:\n",
        "  - If the data set has a header, the function returns separately both the header and the rest of the data set.\n",
        "  - Else (if there's no header), the function returns the entire data set.\n",
        "- Use the updated **open_dataset()** function to open the **AppleStore.csv** file, which has a header row.\n",
        "  - Assign the result to a variable named **all_data**.\n",
        "  - Use tuple indexing to extract the header and the rest of the data set from the **all_data** tuple.\n",
        "    - Assign the header to a variable named **header**.\n",
        "    - Assign the rest of the data set to a variable named **apps_data**."
      ]
    },
    {
      "metadata": {
        "id": "RscDPXgiS4tu",
        "colab_type": "code",
        "colab": {}
      },
      "cell_type": "code",
      "source": [
        "def open_dataset(file_name='AppleStore.csv', header=True):        \n",
        "    opened_file = open(file_name)\n",
        "    from csv import reader\n",
        "    read_file = reader(opened_file)\n",
        "    data = list(read_file)\n",
        "    \n",
        "    if header:\n",
        "        return data[1:]\n",
        "    else:\n",
        "        return data"
      ],
      "execution_count": 0,
      "outputs": []
    },
    {
      "metadata": {
        "id": "y7xEriinbRFw",
        "colab_type": "text"
      },
      "cell_type": "markdown",
      "source": [
        "### 2.5 More About Tuples\n"
      ]
    },
    {
      "metadata": {
        "id": "WFo6oNFNbqO8",
        "colab_type": "text"
      },
      "cell_type": "markdown",
      "source": [
        "When we create a **tuple**, surrounding the values with parentheses is optional. It's enough to write the individual values and separate each with a comma. Below, we see two ways of creating a tuple (on the right, we're not using parentheses):\n",
        "\n",
        "<left><img width=\"300\" src=\"https://drive.google.com/uc?export=view&id=1ez3YUItTjvXiuAtAMNzDRfYzkqZMP_0i\" /></left>\n",
        "\n",
        "\n",
        "With this in mind, remember the syntax we used in the return statement to return multiple values:\n",
        "\n",
        "<left><img width=\"300\" src=\"https://drive.google.com/uc?export=view&id=113U8vEj6VeVyZeUch798rIHlSQuAnNmK\" /></left>\n",
        "\n",
        "When we use return **a_sum**, **difference**, Python thinks we want the **tuple a_sum, difference** returned. This is why multiple variables are returned as tuples. If we wanted to return a **list** instead of a **tuple**, we need to use brackets:\n",
        "\n",
        "<left><img width=\"300\" src=\"https://drive.google.com/uc?export=view&id=1mmSE9Q_-xhMEjQbg2NOsd6_sArFVQ8eV\" /></left>\n",
        "\n",
        "\n",
        "When we work with tuples, we can assign their individual elements to separate variables in a single line of code.\n",
        "\n",
        "<left><img width=\"500\" src=\"https://drive.google.com/uc?export=view&id=1EZs0gXkf2h1XuWtUjMJnM-R1-LHMlIeS\" /></left>\n",
        "\n",
        "\n",
        "We can do the same with lists — we can assign individual list elements to separate variables in a single line of code:\n",
        "\n",
        "<left><img width=\"500\" src=\"https://drive.google.com/uc?export=view&id=1ns9zpBTWmSetZAa_lR-W6LhEzI0K4Vhs\" /></left>\n",
        "\n",
        "\n",
        "We can use this variable assignment technique with functions that return multiple variables.\n",
        "\n",
        "\n",
        "<left><img width=\"300\" src=\"https://drive.google.com/uc?export=view&id=1ZXlnL9pzUPWC26_moEHUnCEMmu0o7fVk\" /></left>\n",
        "\n",
        "Now let's get a bit of practice with this variable assignment technique.\n",
        "\n",
        "\n",
        "\n",
        "**Exercise**\n",
        "<left><img width=\"100\" src=\"https://drive.google.com/uc?export=view&id=1E8tR7B9YYUXsU_rddJAyq0FrM0MSelxZ\" /></left>\n",
        "\n",
        "\n",
        "- Use the **open_dataset()** function to open the **AppleStore.csv** file, which has a header row.\n",
        "  - Do the variable assignment step in a single line of code.\n",
        "    - Assign the header to a variable named **header**.\n",
        "    - Assign the rest of the data set to a variable named **apps_data**."
      ]
    },
    {
      "metadata": {
        "id": "g_kTTV5ab2Ai",
        "colab_type": "code",
        "colab": {}
      },
      "cell_type": "code",
      "source": [
        "def open_dataset(file_name='AppleStore.csv', header=True):        \n",
        "    from csv import reader\n",
        "    data = list(reader(open(file_name)))\n",
        "    \n",
        "    if header:\n",
        "        return data[1:], data[0]\n",
        "    else:\n",
        "        return data"
      ],
      "execution_count": 0,
      "outputs": []
    },
    {
      "metadata": {
        "id": "50qJtaIwpWW7",
        "colab_type": "text"
      },
      "cell_type": "markdown",
      "source": [
        "### 2.6 Functions — Code Running Quirks"
      ]
    },
    {
      "metadata": {
        "id": "zQDgXzgIpXmT",
        "colab_type": "text"
      },
      "cell_type": "markdown",
      "source": [
        "So far, we've been using parameters and return statements for all of our functions. Note, however, that parameters and return statements are optional:\n",
        "\n",
        "\n",
        "<left><img width=\"200\" src=\"https://drive.google.com/uc?export=view&id=1cKeeNGbHNHLyKD8xaeOBCI7Fbun3JKye\" /></left>\n",
        "\n",
        "Functions without a return statement don't return any value. However, strictly speaking, they return a **None** value, which practically represents the absence of a value. The None value is an instance of the **NoneType** data type (just like 5.321 is an instance of the float data type).\n",
        "\n",
        "<left><img width=\"200\" src=\"https://drive.google.com/uc?export=view&id=17I8mLGFwmrOcV20DKabCijmaRTEwjE0h\" /></left>\n",
        "\n",
        "In the function above, notice also that we assigned 3.14 to a variable named **x**. Although we clearly defined **x**, it turns out that we can't access **x** outside the function definition — Python raises a **NameError** and says that **x** is not defined.\n",
        "\n",
        "\n",
        "<left><img width=\"200\" src=\"https://drive.google.com/uc?export=view&id=1_yAVF8jUOwFsi2fIjwwwjBH3tuqDxUc7\" /></left>"
      ]
    },
    {
      "metadata": {
        "id": "X27sJ39npzPE",
        "colab_type": "text"
      },
      "cell_type": "markdown",
      "source": [
        "\n",
        "**Exercise**\n",
        "<left><img width=\"100\" src=\"https://drive.google.com/uc?export=view&id=1E8tR7B9YYUXsU_rddJAyq0FrM0MSelxZ\" /></left>\n",
        "\n",
        "\n",
        "- Rewrite the **print_constant()** function above.\n",
        "- Call the **print_constant()** function to make sure **x = 3.14** gets executed.\n",
        "- Print the variable x using the **print()** function.\n",
        "  - What do you notice about the output?\n",
        "  - This may be totally unexpected, and we'll explain why this happens in the next subsection."
      ]
    },
    {
      "metadata": {
        "id": "k2VoY4Y-rTO_",
        "colab_type": "code",
        "colab": {}
      },
      "cell_type": "code",
      "source": [
        "# put your code here"
      ],
      "execution_count": 0,
      "outputs": []
    },
    {
      "metadata": {
        "id": "JiOHnuQSr4T2",
        "colab_type": "text"
      },
      "cell_type": "markdown",
      "source": [
        "### 2.7 Scopes — Global and Local"
      ]
    },
    {
      "metadata": {
        "id": "rv0dLaTir5pu",
        "colab_type": "text"
      },
      "cell_type": "markdown",
      "source": [
        "You might have found the error we got in the previous exercise completely unexpected. After all, we called the **print_constant()** function, which means that **x = 3.14** must have been executed. So why did we still get an error telling us that x is undefined?\n"
      ]
    },
    {
      "metadata": {
        "id": "_qDEcz_1sHo4",
        "colab_type": "code",
        "outputId": "eeb2ebf8-c6a7-4aad-96ac-a8882f6406ff",
        "colab": {
          "base_uri": "https://localhost:8080/",
          "height": 213
        }
      },
      "cell_type": "code",
      "source": [
        "def print_constant():\n",
        "  x = 3.14\n",
        "  print(x)\n",
        "  \n",
        "print_constant()\n",
        "x"
      ],
      "execution_count": 0,
      "outputs": [
        {
          "output_type": "stream",
          "text": [
            "3.14\n"
          ],
          "name": "stdout"
        },
        {
          "output_type": "error",
          "ename": "NameError",
          "evalue": "ignored",
          "traceback": [
            "\u001b[0;31m---------------------------------------------------------------------------\u001b[0m",
            "\u001b[0;31mNameError\u001b[0m                                 Traceback (most recent call last)",
            "\u001b[0;32m<ipython-input-1-44dbaaba9cae>\u001b[0m in \u001b[0;36m<module>\u001b[0;34m()\u001b[0m\n\u001b[1;32m      4\u001b[0m \u001b[0;34m\u001b[0m\u001b[0m\n\u001b[1;32m      5\u001b[0m \u001b[0mprint_constant\u001b[0m\u001b[0;34m(\u001b[0m\u001b[0;34m)\u001b[0m\u001b[0;34m\u001b[0m\u001b[0;34m\u001b[0m\u001b[0m\n\u001b[0;32m----> 6\u001b[0;31m \u001b[0mx\u001b[0m\u001b[0;34m\u001b[0m\u001b[0;34m\u001b[0m\u001b[0m\n\u001b[0m",
            "\u001b[0;31mNameError\u001b[0m: name 'x' is not defined"
          ]
        }
      ]
    },
    {
      "metadata": {
        "id": "rnX0yZD7uZtc",
        "colab_type": "text"
      },
      "cell_type": "markdown",
      "source": [
        "When **print_constant()** is called, **x = 3.14** is indeed executed, but the quirk is that Python only saves the **x** variable *temporarily*. Python saves **x** into a kind of **temporary memory**, which is immediately erased after the **print_constant()** finishes running.\n",
        "\n",
        "This explains why **x** is still undefined even after **print_constant()** is called — the temporary memory associated with **print_constant()** is immediately erased after the function finishes running, being freed up for later use.\n",
        "\n",
        "This kind of temporary memory storage doesn't also apply to the code that is being run outside function definitions. If we define **x = 3.14** in our **main program** (outside function definitions), we can use **x** later on without having to worry that it was erased from memory.\n",
        "\n",
        "<left><img width=\"200\" src=\"https://drive.google.com/uc?export=view&id=1-JrqTpgV-wAPlD1h9zHWmNcOYHeSrmwU\" /></left>\n",
        "\n",
        "The temporary memory associated with a function is isolated from the memory associated with the main program. The consequence of this is that we can initialize a variable **x = 10** in the main program, and then execute **x = 3.14** in the body of a function without overwriting the **x** variable of the main program.\n",
        "\n",
        "<left><img width=\"200\" src=\"https://drive.google.com/uc?export=view&id=1q_C8qIkTKZ6_vDsk4B1hSsUQ9O9WQGRf\" /></left>\n",
        "\n",
        "This memory isolation is useful because we don't have to worry about overwriting variables from the main program when we write functions, or vice-versa. This is especially helpful when we write large programs, and it becomes difficult to remember all the variable names we used.\n",
        "\n",
        "This memory isolation also means that some variables can be accessed only from certain parts of a program. We've already seen in one of the examples above that we couldn't access **x** from the main program because it was only defined in the function definition, which is memory-isolated from the main program.\n",
        "\n",
        "<left><img width=\"500\" src=\"https://drive.google.com/uc?export=view&id=1jLszjnbBXf9DqiDHnhCN0LAhMIpUqoVg\" /></left>\n",
        "\n",
        "\n",
        "The part of a program where a variable can be accessed is often called **scope**. The variables defined in the **main program** are said to be in the **global scope**, while the variables defined inside a function are in the **local scope**.\n",
        "\n",
        "Let's get a bit of practice to understand scopes better before resuming the discussion in the next subsection. For the exercise below, we've already defined three variables in the cell below: **e**, **a_sum**, and **length**. \n",
        "\n",
        "\n",
        "**Exercise**\n",
        "<left><img width=\"100\" src=\"https://drive.google.com/uc?export=view&id=1E8tR7B9YYUXsU_rddJAyq0FrM0MSelxZ\" /></left>\n",
        "\n",
        "\n",
        "- Create a function named **exponential()** that takes in a single parameter named **x**.\n",
        "  - Inside the function definition:\n",
        "    - Assign 2.72 to a variable named **e**.\n",
        "    - Print **e**.\n",
        "  - The function should return **e** to the power of **x**.\n",
        "  - Call the **exponential()** function with an argument of 5. Assign the result to a variable named **result**.\n",
        "  - Hypothesize what you should see if you printed **e** in the main program after calling the **exponential()** function. Print **e** to confirm or reject your hypothesis.\n",
        "- Create a new function named **divide()** which doesn't take in any parameter, and then call the function.\n",
        "  - Inside the function definition:\n",
        "    - Print the **a_sum** variable.\n",
        "    - Print the **length** variable.\n",
        "  - The function should return the result of the division between **a_sum** and **length**.\n",
        "  - Call the **divide()** function, and try to assign the result to a variable named **result_2**. Before running the code, hypothesize whether we'll get an error or not."
      ]
    },
    {
      "metadata": {
        "id": "NBWj9Eeawgqh",
        "colab_type": "code",
        "colab": {}
      },
      "cell_type": "code",
      "source": [
        "e = 'mathematical constant'\n",
        "a_sum = 1000\n",
        "length = 50\n",
        "\n",
        "# put your code here"
      ],
      "execution_count": 0,
      "outputs": []
    }
  ]
}